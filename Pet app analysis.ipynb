{
 "cells": [
  {
   "cell_type": "code",
   "execution_count": 31,
   "id": "fac3ba1a",
   "metadata": {},
   "outputs": [],
   "source": [
    "import pandas as pd\n",
    "import numpy as np\n",
    "import matplotlib.pyplot as plt\n",
    "import seaborn as sns\n",
    "import datetime\n",
    "plt.rcParams['figure.figsize'] = [16, 8]"
   ]
  },
  {
   "cell_type": "markdown",
   "id": "0df0c661",
   "metadata": {},
   "source": [
    "Let's import the different tables we need to work with."
   ]
  },
  {
   "cell_type": "code",
   "execution_count": 32,
   "id": "7b67822e",
   "metadata": {},
   "outputs": [],
   "source": [
    "conv = pd.read_csv(\"C://Users//Juan Diego//Desktop//Rover//Datasets//conversations_conversation.csv\")\n",
    "conv_pet = pd.read_csv(\"C://Users//Juan Diego//Desktop//Rover//Datasets//conversations_conversation_pets.csv\")\n",
    "conv_mess = pd.read_csv(\"C://Users//Juan Diego//Desktop//Rover//Datasets//conversations_message.csv\")\n",
    "conv_rev = pd.read_csv(\"C://Users//Juan Diego//Desktop//Rover//Datasets//conversations_review.csv\")\n",
    "peop_per = pd.read_csv(\"C://Users//Juan Diego//Desktop//Rover//Datasets//people_person.csv\")\n",
    "peop_tst = pd.read_csv(\"C://Users//Juan Diego//Desktop//Rover//Datasets//people_testsegmentation.csv\")\n",
    "pets = pd.read_csv(\"C://Users//Juan Diego//Desktop//Rover//Datasets//pets_pet.csv\")\n",
    "srvc = pd.read_csv(\"C://Users//Juan Diego//Desktop//Rover//Datasets//services_service.csv\")"
   ]
  },
  {
   "cell_type": "markdown",
   "id": "dac8f526",
   "metadata": {},
   "source": [
    "## How many users have signed up for the site?"
   ]
  },
  {
   "cell_type": "code",
   "execution_count": 33,
   "id": "29c0998e",
   "metadata": {},
   "outputs": [
    {
     "data": {
      "text/plain": [
       "64476"
      ]
     },
     "execution_count": 33,
     "metadata": {},
     "output_type": "execute_result"
    }
   ],
   "source": [
    "peop_per.date_joined.nunique()"
   ]
  },
  {
   "cell_type": "markdown",
   "id": "f219aa2f",
   "metadata": {},
   "source": [
    "## How many users signed up prior to 2021-10-31?"
   ]
  },
  {
   "cell_type": "code",
   "execution_count": 34,
   "id": "9de7c78b",
   "metadata": {},
   "outputs": [
    {
     "data": {
      "text/plain": [
       "35575"
      ]
     },
     "execution_count": 34,
     "metadata": {},
     "output_type": "execute_result"
    }
   ],
   "source": [
    "peop_per[\"date_joined\"] = pd.to_datetime(peop_per[\"date_joined\"])\n",
    "peop_per.dtypes\n",
    "peop_per[peop_per[\"date_joined\"]< \"2021-10-31\"].shape[0]"
   ]
  },
  {
   "cell_type": "markdown",
   "id": "763c3eab",
   "metadata": {},
   "source": [
    "## How many users offer pet-caring services?"
   ]
  },
  {
   "cell_type": "code",
   "execution_count": 35,
   "id": "da021dec",
   "metadata": {},
   "outputs": [
    {
     "data": {
      "text/plain": [
       "12600"
      ]
     },
     "execution_count": 35,
     "metadata": {},
     "output_type": "execute_result"
    }
   ],
   "source": [
    "srvc.provider_id.nunique()"
   ]
  },
  {
   "cell_type": "markdown",
   "id": "cbc6a142",
   "metadata": {},
   "source": [
    "## What % of users that do not offer services have ever sent a conversation?"
   ]
  },
  {
   "cell_type": "markdown",
   "id": "4d70fe1b",
   "metadata": {},
   "source": [
    "First, to arrive at the users that do not offer services, this would be set difference (all users - users with at least 1 service = users that do not offer services)"
   ]
  },
  {
   "cell_type": "code",
   "execution_count": 36,
   "id": "f746b1bc",
   "metadata": {
    "scrolled": true
   },
   "outputs": [
    {
     "name": "stdout",
     "output_type": "stream",
     "text": [
      "51876\n",
      "51876\n",
      "44163\n",
      "0.8513185287994448\n"
     ]
    }
   ],
   "source": [
    "all_users = set(peop_per[\"id\"].unique())\n",
    "offer_users = set(srvc.provider_id.unique())\n",
    "no_offer_users = all_users.difference(offer_users) #this is users that have never offered a service\n",
    "print(len(no_offer_users))\n",
    "buy_users = set(conv.requester_id.unique())\n",
    "no_off_buy = no_offer_users.intersection(buy_users) #this is users that have never offered a service, but have started a conv\n",
    "print(len(no_offer_users))\n",
    "print(len(no_off_buy))\n",
    "print(len(no_off_buy)/len(no_offer_users)) #the result"
   ]
  },
  {
   "cell_type": "markdown",
   "id": "9a83bc6e",
   "metadata": {},
   "source": [
    "## What % of conversations have successfully booked?"
   ]
  },
  {
   "cell_type": "code",
   "execution_count": 37,
   "id": "541e0c29",
   "metadata": {},
   "outputs": [
    {
     "name": "stdout",
     "output_type": "stream",
     "text": [
      "79413 33066 3250\n"
     ]
    }
   ],
   "source": [
    "print(conv.shape[0], conv.booked_at.nunique(), conv[~conv[\"cancelled_at\"].isna()].cancelled_at.nunique())"
   ]
  },
  {
   "cell_type": "code",
   "execution_count": 38,
   "id": "4fa7e838",
   "metadata": {},
   "outputs": [
    {
     "name": "stdout",
     "output_type": "stream",
     "text": [
      "0.4163801896414945\n"
     ]
    }
   ],
   "source": [
    "print(conv.booked_at.nunique()/ conv.shape[0]) #this is the number without considering cancellations"
   ]
  },
  {
   "cell_type": "markdown",
   "id": "92e659ed",
   "metadata": {},
   "source": [
    "## 1) In each month, what were the gross billings and net revenue across all bookings?"
   ]
  },
  {
   "cell_type": "markdown",
   "id": "ab9688cb",
   "metadata": {},
   "source": [
    "First, I need the records in conv for which booked_at is not null (so the conversation led to a service being booked) & cancelled_at is null (so the service was actually provided and paid for)"
   ]
  },
  {
   "cell_type": "code",
   "execution_count": 39,
   "id": "01522cc9",
   "metadata": {},
   "outputs": [],
   "source": [
    "conv_bkd_not_cn = conv.loc[(~conv.booked_at.isna()) & (conv.cancelled_at.isna()), :]"
   ]
  },
  {
   "cell_type": "markdown",
   "id": "f5610a0d",
   "metadata": {},
   "source": [
    "Now, for these records, I have the booking total, service_id, units. For the billing/income, I need the owner's fee for each owner that actually hired a service. We need to use pd.merge() on conv_bkd_not_cn and the peop_per df to bring this data."
   ]
  },
  {
   "cell_type": "code",
   "execution_count": 40,
   "id": "48a5f1e3",
   "metadata": {},
   "outputs": [
    {
     "data": {
      "text/html": [
       "<div>\n",
       "<style scoped>\n",
       "    .dataframe tbody tr th:only-of-type {\n",
       "        vertical-align: middle;\n",
       "    }\n",
       "\n",
       "    .dataframe tbody tr th {\n",
       "        vertical-align: top;\n",
       "    }\n",
       "\n",
       "    .dataframe thead th {\n",
       "        text-align: right;\n",
       "    }\n",
       "</style>\n",
       "<table border=\"1\" class=\"dataframe\">\n",
       "  <thead>\n",
       "    <tr style=\"text-align: right;\">\n",
       "      <th></th>\n",
       "      <th>id_x</th>\n",
       "      <th>start_date</th>\n",
       "      <th>end_date</th>\n",
       "      <th>units</th>\n",
       "      <th>added</th>\n",
       "      <th>booking_total</th>\n",
       "      <th>cancellation_fault</th>\n",
       "      <th>requester_id</th>\n",
       "      <th>service_id</th>\n",
       "      <th>booked_at</th>\n",
       "      <th>cancelled_at</th>\n",
       "      <th>id_y</th>\n",
       "      <th>first_name</th>\n",
       "      <th>last_name</th>\n",
       "      <th>email</th>\n",
       "      <th>channel</th>\n",
       "      <th>date_joined</th>\n",
       "      <th>photo</th>\n",
       "      <th>fee</th>\n",
       "      <th>gender</th>\n",
       "    </tr>\n",
       "  </thead>\n",
       "  <tbody>\n",
       "    <tr>\n",
       "      <th>0</th>\n",
       "      <td>1</td>\n",
       "      <td>2022-04-10</td>\n",
       "      <td>2022-04-16</td>\n",
       "      <td>6</td>\n",
       "      <td>2022-03-29 09:49:55.672654</td>\n",
       "      <td>252</td>\n",
       "      <td>NaN</td>\n",
       "      <td>64476</td>\n",
       "      <td>10272</td>\n",
       "      <td>2022-03-30 01:13:31.396982</td>\n",
       "      <td>NaN</td>\n",
       "      <td>64476</td>\n",
       "      <td>Carolann</td>\n",
       "      <td>Matherson</td>\n",
       "      <td>carolann.matherson493@rover.com</td>\n",
       "      <td>Google</td>\n",
       "      <td>2022-03-28 07:48:19.584522</td>\n",
       "      <td>https://placekitten.com/206/343</td>\n",
       "      <td>0.07</td>\n",
       "      <td>f</td>\n",
       "    </tr>\n",
       "    <tr>\n",
       "      <th>1</th>\n",
       "      <td>3</td>\n",
       "      <td>2022-04-23</td>\n",
       "      <td>2022-04-24</td>\n",
       "      <td>1</td>\n",
       "      <td>2022-04-16 11:26:48.319234</td>\n",
       "      <td>69</td>\n",
       "      <td>NaN</td>\n",
       "      <td>64474</td>\n",
       "      <td>15367</td>\n",
       "      <td>2022-04-19 21:46:57.694034</td>\n",
       "      <td>NaN</td>\n",
       "      <td>64474</td>\n",
       "      <td>Vincenzo</td>\n",
       "      <td>Laducer</td>\n",
       "      <td>vincenzo.laducer493@hotmail.com</td>\n",
       "      <td>Google</td>\n",
       "      <td>2022-04-12 00:28:27.741263</td>\n",
       "      <td>https://placekitten.com/259/291</td>\n",
       "      <td>0.07</td>\n",
       "      <td>m</td>\n",
       "    </tr>\n",
       "    <tr>\n",
       "      <th>2</th>\n",
       "      <td>6</td>\n",
       "      <td>2022-04-28</td>\n",
       "      <td>2022-05-01</td>\n",
       "      <td>3</td>\n",
       "      <td>2022-04-16 13:01:53.533798</td>\n",
       "      <td>216</td>\n",
       "      <td>NaN</td>\n",
       "      <td>64469</td>\n",
       "      <td>11387</td>\n",
       "      <td>2022-04-19 06:47:02.604882</td>\n",
       "      <td>NaN</td>\n",
       "      <td>64469</td>\n",
       "      <td>Kamala</td>\n",
       "      <td>Caddel</td>\n",
       "      <td>kamala.caddel138@gmail.com</td>\n",
       "      <td>Google</td>\n",
       "      <td>2022-04-13 08:53:37.677608</td>\n",
       "      <td>https://placekitten.com/385/291</td>\n",
       "      <td>0.07</td>\n",
       "      <td>f</td>\n",
       "    </tr>\n",
       "    <tr>\n",
       "      <th>3</th>\n",
       "      <td>9</td>\n",
       "      <td>2022-04-12</td>\n",
       "      <td>2022-04-15</td>\n",
       "      <td>3</td>\n",
       "      <td>2022-03-31 14:03:38.120848</td>\n",
       "      <td>228</td>\n",
       "      <td>NaN</td>\n",
       "      <td>64465</td>\n",
       "      <td>20265</td>\n",
       "      <td>2022-04-05 03:09:19.287573</td>\n",
       "      <td>NaN</td>\n",
       "      <td>64465</td>\n",
       "      <td>Chauncey</td>\n",
       "      <td>Maskell</td>\n",
       "      <td>chauncey.maskell370@yahoo.com</td>\n",
       "      <td>Google</td>\n",
       "      <td>2022-03-30 10:33:31.539942</td>\n",
       "      <td>https://placekitten.com/377/393</td>\n",
       "      <td>0.07</td>\n",
       "      <td>m</td>\n",
       "    </tr>\n",
       "    <tr>\n",
       "      <th>4</th>\n",
       "      <td>16</td>\n",
       "      <td>2022-04-22</td>\n",
       "      <td>2022-04-26</td>\n",
       "      <td>4</td>\n",
       "      <td>2022-04-14 19:08:11.931551</td>\n",
       "      <td>120</td>\n",
       "      <td>NaN</td>\n",
       "      <td>64458</td>\n",
       "      <td>8722</td>\n",
       "      <td>2022-04-16 15:36:02.301549</td>\n",
       "      <td>NaN</td>\n",
       "      <td>64458</td>\n",
       "      <td>Sau</td>\n",
       "      <td>Calin</td>\n",
       "      <td>sau.calin585@gmail.com</td>\n",
       "      <td>Google</td>\n",
       "      <td>2022-04-12 04:19:30.891301</td>\n",
       "      <td>https://placekitten.com/356/310</td>\n",
       "      <td>0.07</td>\n",
       "      <td>f</td>\n",
       "    </tr>\n",
       "  </tbody>\n",
       "</table>\n",
       "</div>"
      ],
      "text/plain": [
       "   id_x  start_date    end_date  units                       added  \\\n",
       "0     1  2022-04-10  2022-04-16      6  2022-03-29 09:49:55.672654   \n",
       "1     3  2022-04-23  2022-04-24      1  2022-04-16 11:26:48.319234   \n",
       "2     6  2022-04-28  2022-05-01      3  2022-04-16 13:01:53.533798   \n",
       "3     9  2022-04-12  2022-04-15      3  2022-03-31 14:03:38.120848   \n",
       "4    16  2022-04-22  2022-04-26      4  2022-04-14 19:08:11.931551   \n",
       "\n",
       "   booking_total cancellation_fault  requester_id  service_id  \\\n",
       "0            252                NaN         64476       10272   \n",
       "1             69                NaN         64474       15367   \n",
       "2            216                NaN         64469       11387   \n",
       "3            228                NaN         64465       20265   \n",
       "4            120                NaN         64458        8722   \n",
       "\n",
       "                    booked_at cancelled_at   id_y first_name  last_name  \\\n",
       "0  2022-03-30 01:13:31.396982          NaN  64476   Carolann  Matherson   \n",
       "1  2022-04-19 21:46:57.694034          NaN  64474   Vincenzo    Laducer   \n",
       "2  2022-04-19 06:47:02.604882          NaN  64469     Kamala     Caddel   \n",
       "3  2022-04-05 03:09:19.287573          NaN  64465   Chauncey    Maskell   \n",
       "4  2022-04-16 15:36:02.301549          NaN  64458        Sau      Calin   \n",
       "\n",
       "                             email channel                date_joined  \\\n",
       "0  carolann.matherson493@rover.com  Google 2022-03-28 07:48:19.584522   \n",
       "1  vincenzo.laducer493@hotmail.com  Google 2022-04-12 00:28:27.741263   \n",
       "2       kamala.caddel138@gmail.com  Google 2022-04-13 08:53:37.677608   \n",
       "3    chauncey.maskell370@yahoo.com  Google 2022-03-30 10:33:31.539942   \n",
       "4           sau.calin585@gmail.com  Google 2022-04-12 04:19:30.891301   \n",
       "\n",
       "                             photo   fee gender  \n",
       "0  https://placekitten.com/206/343  0.07      f  \n",
       "1  https://placekitten.com/259/291  0.07      m  \n",
       "2  https://placekitten.com/385/291  0.07      f  \n",
       "3  https://placekitten.com/377/393  0.07      m  \n",
       "4  https://placekitten.com/356/310  0.07      f  "
      ]
     },
     "execution_count": 40,
     "metadata": {},
     "output_type": "execute_result"
    }
   ],
   "source": [
    "conv_bkd_not_cn_f = pd.merge(left = conv_bkd_not_cn, right = peop_per, left_on = \"requester_id\", right_on = \"id\", how = \"left\")\n",
    "conv_bkd_not_cn_f.head()"
   ]
  },
  {
   "cell_type": "code",
   "execution_count": 41,
   "id": "03b4c0f5",
   "metadata": {},
   "outputs": [
    {
     "data": {
      "text/plain": [
       "5617924.2"
      ]
     },
     "execution_count": 41,
     "metadata": {},
     "output_type": "execute_result"
    }
   ],
   "source": [
    "conv_bkd_not_cn_f[\"total_w_fee\"] = conv_bkd_not_cn_f[\"booking_total\"] + conv_bkd_not_cn_f[\"booking_total\"]*conv_bkd_not_cn_f[\"fee\"]\n",
    "conv_bkd_not_cn_f[\"total_w_fee\"].sum()"
   ]
  },
  {
   "cell_type": "markdown",
   "id": "439a90d9",
   "metadata": {},
   "source": [
    "Now we have the total gross billing/income, but I want to see it by month!"
   ]
  },
  {
   "cell_type": "code",
   "execution_count": 42,
   "id": "e51aa6f3",
   "metadata": {},
   "outputs": [
    {
     "name": "stdout",
     "output_type": "stream",
     "text": [
      "id_x                           int64\n",
      "start_date            datetime64[ns]\n",
      "end_date              datetime64[ns]\n",
      "units                          int64\n",
      "added                 datetime64[ns]\n",
      "booking_total                  int64\n",
      "cancellation_fault            object\n",
      "requester_id                   int64\n",
      "service_id                     int64\n",
      "booked_at             datetime64[ns]\n",
      "cancelled_at                  object\n",
      "id_y                           int64\n",
      "first_name                    object\n",
      "last_name                     object\n",
      "email                         object\n",
      "channel                       object\n",
      "date_joined           datetime64[ns]\n",
      "photo                         object\n",
      "fee                          float64\n",
      "gender                        object\n",
      "total_w_fee                  float64\n",
      "dtype: object\n"
     ]
    }
   ],
   "source": [
    "date_c = [\"start_date\", \"end_date\", \"added\", \"booked_at\", \"date_joined\"]\n",
    "for c in date_c:\n",
    "    conv_bkd_not_cn_f[c] = pd.to_datetime(conv_bkd_not_cn_f[c])\n",
    "print(conv_bkd_not_cn_f.dtypes)"
   ]
  },
  {
   "cell_type": "code",
   "execution_count": 43,
   "id": "83d9d204",
   "metadata": {},
   "outputs": [],
   "source": [
    "conv_bkd_not_cn_f[\"month_booked\"] = conv_bkd_not_cn_f[\"booked_at\"].dt.month_name()\n",
    "conv_bkd_not_cn_f[\"month_booked\"] = pd.Categorical(conv_bkd_not_cn_f[\"month_booked\"], [\"January\", \"February\", \"March\", \"April\", \"May\", \"June\", \"July\", \"August\", \"September\", \"October\", \"November\", \"December\"])"
   ]
  },
  {
   "cell_type": "markdown",
   "id": "3b395d5b",
   "metadata": {},
   "source": [
    "We also want to take a look at the net revenue, which is = total_w_fee - (booking total - booking total(service fee)). We need the service fee id from the srvc df in order to make this calculation. pd.merge() joining on \"service_id\" and \"id\""
   ]
  },
  {
   "cell_type": "code",
   "execution_count": 44,
   "id": "25af47bd",
   "metadata": {},
   "outputs": [
    {
     "data": {
      "text/html": [
       "<div>\n",
       "<style scoped>\n",
       "    .dataframe tbody tr th:only-of-type {\n",
       "        vertical-align: middle;\n",
       "    }\n",
       "\n",
       "    .dataframe tbody tr th {\n",
       "        vertical-align: top;\n",
       "    }\n",
       "\n",
       "    .dataframe thead th {\n",
       "        text-align: right;\n",
       "    }\n",
       "</style>\n",
       "<table border=\"1\" class=\"dataframe\">\n",
       "  <thead>\n",
       "    <tr style=\"text-align: right;\">\n",
       "      <th></th>\n",
       "      <th>id_x</th>\n",
       "      <th>start_date</th>\n",
       "      <th>end_date</th>\n",
       "      <th>units</th>\n",
       "      <th>added_x</th>\n",
       "      <th>booking_total</th>\n",
       "      <th>cancellation_fault</th>\n",
       "      <th>requester_id</th>\n",
       "      <th>service_id</th>\n",
       "      <th>booked_at</th>\n",
       "      <th>...</th>\n",
       "      <th>special_needs_experience</th>\n",
       "      <th>takes_small_dogs</th>\n",
       "      <th>takes_medium_dogs</th>\n",
       "      <th>takes_large_dogs</th>\n",
       "      <th>takes_puppies</th>\n",
       "      <th>max_dogs</th>\n",
       "      <th>provider_id</th>\n",
       "      <th>fee_y</th>\n",
       "      <th>price</th>\n",
       "      <th>added_y</th>\n",
       "    </tr>\n",
       "  </thead>\n",
       "  <tbody>\n",
       "    <tr>\n",
       "      <th>0</th>\n",
       "      <td>1</td>\n",
       "      <td>2022-04-10</td>\n",
       "      <td>2022-04-16</td>\n",
       "      <td>6</td>\n",
       "      <td>2022-03-29 09:49:55.672654</td>\n",
       "      <td>252</td>\n",
       "      <td>NaN</td>\n",
       "      <td>64476</td>\n",
       "      <td>10272</td>\n",
       "      <td>2022-03-30 01:13:31.396982</td>\n",
       "      <td>...</td>\n",
       "      <td>0</td>\n",
       "      <td>1</td>\n",
       "      <td>1</td>\n",
       "      <td>0</td>\n",
       "      <td>1</td>\n",
       "      <td>4</td>\n",
       "      <td>6007</td>\n",
       "      <td>0.2</td>\n",
       "      <td>21</td>\n",
       "      <td>2021-06-22 13:04:09.769296</td>\n",
       "    </tr>\n",
       "    <tr>\n",
       "      <th>1</th>\n",
       "      <td>3</td>\n",
       "      <td>2022-04-23</td>\n",
       "      <td>2022-04-24</td>\n",
       "      <td>1</td>\n",
       "      <td>2022-04-16 11:26:48.319234</td>\n",
       "      <td>69</td>\n",
       "      <td>NaN</td>\n",
       "      <td>64474</td>\n",
       "      <td>15367</td>\n",
       "      <td>2022-04-19 21:46:57.694034</td>\n",
       "      <td>...</td>\n",
       "      <td>0</td>\n",
       "      <td>1</td>\n",
       "      <td>1</td>\n",
       "      <td>1</td>\n",
       "      <td>0</td>\n",
       "      <td>7</td>\n",
       "      <td>8983</td>\n",
       "      <td>0.2</td>\n",
       "      <td>23</td>\n",
       "      <td>2021-12-23 05:25:34.579834</td>\n",
       "    </tr>\n",
       "    <tr>\n",
       "      <th>2</th>\n",
       "      <td>6</td>\n",
       "      <td>2022-04-28</td>\n",
       "      <td>2022-05-01</td>\n",
       "      <td>3</td>\n",
       "      <td>2022-04-16 13:01:53.533798</td>\n",
       "      <td>216</td>\n",
       "      <td>NaN</td>\n",
       "      <td>64469</td>\n",
       "      <td>11387</td>\n",
       "      <td>2022-04-19 06:47:02.604882</td>\n",
       "      <td>...</td>\n",
       "      <td>0</td>\n",
       "      <td>1</td>\n",
       "      <td>0</td>\n",
       "      <td>1</td>\n",
       "      <td>1</td>\n",
       "      <td>4</td>\n",
       "      <td>6661</td>\n",
       "      <td>0.2</td>\n",
       "      <td>36</td>\n",
       "      <td>2022-01-12 04:33:34.874966</td>\n",
       "    </tr>\n",
       "    <tr>\n",
       "      <th>3</th>\n",
       "      <td>9</td>\n",
       "      <td>2022-04-12</td>\n",
       "      <td>2022-04-15</td>\n",
       "      <td>3</td>\n",
       "      <td>2022-03-31 14:03:38.120848</td>\n",
       "      <td>228</td>\n",
       "      <td>NaN</td>\n",
       "      <td>64465</td>\n",
       "      <td>20265</td>\n",
       "      <td>2022-04-05 03:09:19.287573</td>\n",
       "      <td>...</td>\n",
       "      <td>0</td>\n",
       "      <td>1</td>\n",
       "      <td>1</td>\n",
       "      <td>1</td>\n",
       "      <td>1</td>\n",
       "      <td>3</td>\n",
       "      <td>11865</td>\n",
       "      <td>0.2</td>\n",
       "      <td>38</td>\n",
       "      <td>2022-03-11 05:55:27.205574</td>\n",
       "    </tr>\n",
       "    <tr>\n",
       "      <th>4</th>\n",
       "      <td>16</td>\n",
       "      <td>2022-04-22</td>\n",
       "      <td>2022-04-26</td>\n",
       "      <td>4</td>\n",
       "      <td>2022-04-14 19:08:11.931551</td>\n",
       "      <td>120</td>\n",
       "      <td>NaN</td>\n",
       "      <td>64458</td>\n",
       "      <td>8722</td>\n",
       "      <td>2022-04-16 15:36:02.301549</td>\n",
       "      <td>...</td>\n",
       "      <td>1</td>\n",
       "      <td>0</td>\n",
       "      <td>1</td>\n",
       "      <td>0</td>\n",
       "      <td>1</td>\n",
       "      <td>5</td>\n",
       "      <td>5118</td>\n",
       "      <td>0.2</td>\n",
       "      <td>30</td>\n",
       "      <td>2021-07-05 00:22:12.701395</td>\n",
       "    </tr>\n",
       "  </tbody>\n",
       "</table>\n",
       "<p>5 rows × 38 columns</p>\n",
       "</div>"
      ],
      "text/plain": [
       "   id_x start_date   end_date  units                    added_x  \\\n",
       "0     1 2022-04-10 2022-04-16      6 2022-03-29 09:49:55.672654   \n",
       "1     3 2022-04-23 2022-04-24      1 2022-04-16 11:26:48.319234   \n",
       "2     6 2022-04-28 2022-05-01      3 2022-04-16 13:01:53.533798   \n",
       "3     9 2022-04-12 2022-04-15      3 2022-03-31 14:03:38.120848   \n",
       "4    16 2022-04-22 2022-04-26      4 2022-04-14 19:08:11.931551   \n",
       "\n",
       "   booking_total cancellation_fault  requester_id  service_id  \\\n",
       "0            252                NaN         64476       10272   \n",
       "1             69                NaN         64474       15367   \n",
       "2            216                NaN         64469       11387   \n",
       "3            228                NaN         64465       20265   \n",
       "4            120                NaN         64458        8722   \n",
       "\n",
       "                   booked_at  ... special_needs_experience  takes_small_dogs  \\\n",
       "0 2022-03-30 01:13:31.396982  ...                        0                 1   \n",
       "1 2022-04-19 21:46:57.694034  ...                        0                 1   \n",
       "2 2022-04-19 06:47:02.604882  ...                        0                 1   \n",
       "3 2022-04-05 03:09:19.287573  ...                        0                 1   \n",
       "4 2022-04-16 15:36:02.301549  ...                        1                 0   \n",
       "\n",
       "  takes_medium_dogs takes_large_dogs takes_puppies max_dogs provider_id fee_y  \\\n",
       "0                 1                0             1        4        6007   0.2   \n",
       "1                 1                1             0        7        8983   0.2   \n",
       "2                 0                1             1        4        6661   0.2   \n",
       "3                 1                1             1        3       11865   0.2   \n",
       "4                 1                0             1        5        5118   0.2   \n",
       "\n",
       "   price                     added_y  \n",
       "0     21  2021-06-22 13:04:09.769296  \n",
       "1     23  2021-12-23 05:25:34.579834  \n",
       "2     36  2022-01-12 04:33:34.874966  \n",
       "3     38  2022-03-11 05:55:27.205574  \n",
       "4     30  2021-07-05 00:22:12.701395  \n",
       "\n",
       "[5 rows x 38 columns]"
      ]
     },
     "execution_count": 44,
     "metadata": {},
     "output_type": "execute_result"
    }
   ],
   "source": [
    "conv_bkd_nc_complete = pd.merge(left = conv_bkd_not_cn_f, right = srvc, left_on = \"service_id\", right_on = \"id\", how = \"left\")\n",
    "conv_bkd_nc_complete.head()"
   ]
  },
  {
   "cell_type": "markdown",
   "id": "aa2b2c10",
   "metadata": {},
   "source": [
    "Now let's create the 2 new columns we need: one to know what did we pay service providers, and another one with the net revenue per booking."
   ]
  },
  {
   "cell_type": "code",
   "execution_count": 45,
   "id": "7cba6d9d",
   "metadata": {},
   "outputs": [],
   "source": [
    "conv_bkd_nc_complete[\"prov_pay\"] = conv_bkd_nc_complete[\"booking_total\"] - conv_bkd_nc_complete[\"booking_total\"]*conv_bkd_nc_complete[\"fee_y\"]\n",
    "conv_bkd_nc_complete[\"net_revenue\"] = conv_bkd_nc_complete[\"total_w_fee\"] - conv_bkd_nc_complete[\"prov_pay\"]"
   ]
  },
  {
   "cell_type": "code",
   "execution_count": 46,
   "id": "7e092078",
   "metadata": {},
   "outputs": [],
   "source": [
    "conv_bkd_nc_complete[\"year-month\"] = conv_bkd_nc_complete[\"booked_at\"].dt.to_period(\"M\")\n",
    "conv_bkd_nc_complete[\"year-month\"] = conv_bkd_nc_complete[\"year-month\"].astype(\"str\")"
   ]
  },
  {
   "cell_type": "markdown",
   "id": "8b07b1b0",
   "metadata": {},
   "source": [
    "# Answer to question 1:"
   ]
  },
  {
   "cell_type": "code",
   "execution_count": 47,
   "id": "25c2b4a9",
   "metadata": {},
   "outputs": [
    {
     "name": "stdout",
     "output_type": "stream",
     "text": [
      "   year-month  total_w_fee  net_revenue\n",
      "0     2020-05      2727.48       454.58\n",
      "1     2020-06     13134.54      2189.09\n",
      "2     2020-07     27990.84      4665.14\n",
      "3     2020-08     44457.72      7409.62\n",
      "4     2020-09     49687.56      8400.51\n",
      "5     2020-10     69135.33     12857.68\n",
      "6     2020-11     86374.17     16138.67\n",
      "7     2020-12    118944.21     22329.81\n",
      "8     2021-01    136658.34     25718.89\n",
      "9     2021-02    133240.47     25108.72\n",
      "10    2021-03    168063.66     33012.71\n",
      "11    2021-04    196862.16     39578.91\n",
      "12    2021-05    231620.61     48150.81\n",
      "13    2021-06    246159.84     52253.09\n",
      "14    2021-07    268616.04     57915.14\n",
      "15    2021-08    311098.59     68079.39\n",
      "16    2021-09    300327.63     68645.73\n",
      "17    2021-10    354100.67     81439.67\n",
      "18    2021-11    364516.70     84949.90\n",
      "19    2021-12    403985.96     95399.31\n",
      "20    2022-01    478107.58    112944.93\n",
      "21    2022-02    468192.66    111661.66\n",
      "22    2022-03    557278.16    133721.26\n",
      "23    2022-04    586643.28    141137.88\n"
     ]
    }
   ],
   "source": [
    "X2 = conv_bkd_nc_complete.groupby(by=\"year-month\", as_index=False).agg({ \"total_w_fee\" : \"sum\", \"net_revenue\" : \"sum\"})\n",
    "print(X2.head(30))"
   ]
  },
  {
   "cell_type": "code",
   "execution_count": 48,
   "id": "e2eb4d98",
   "metadata": {},
   "outputs": [
    {
     "data": {
      "image/png": "[encoded data removed]",
      "text/plain": [
       "<Figure size 1152x576 with 1 Axes>"
      ]
     },
     "metadata": {
      "needs_background": "light"
     },
     "output_type": "display_data"
    }
   ],
   "source": [
    "fix, ax = plt.subplots(sharex=True, sharey=True)\n",
    "\n",
    "ax.plot(\"year-month\", \"total_w_fee\", data=X2, color=\"blue\", marker=\"o\")\n",
    "ax.plot(\"year-month\", \"net_revenue\", data=X2, color=\"orange\", marker=\"o\")\n",
    "ax.set_xlabel(\"date\", fontsize=16)\n",
    "ax.set_ylabel(\"dollars $\", fontsize=16)\n",
    "ax.set_title(\"evolution of gross billing and net revenue accross all bookings\", fontsize=18)\n",
    "ax.legend(fontsize=\"large\")\n",
    "for tick in ax.get_xticklabels():\n",
    "        tick.set_rotation(90)\n",
    "plt.show()"
   ]
  },
  {
   "cell_type": "markdown",
   "id": "d9932bc5",
   "metadata": {},
   "source": [
    "## 2) Define take rate to be the percentage of gross billings that is net revenue. In the previous example, the take rate is slightly more than 19% since 20/105 is approximately 0.1905. In each month, what was the aggregate take rate?"
   ]
  },
  {
   "cell_type": "markdown",
   "id": "c69306f8",
   "metadata": {},
   "source": [
    "# Answer to question 2:"
   ]
  },
  {
   "cell_type": "code",
   "execution_count": 49,
   "id": "2ff22d9b",
   "metadata": {},
   "outputs": [
    {
     "name": "stdout",
     "output_type": "stream",
     "text": [
      "   year-month  total_w_fee  net_revenue  take_rate\n",
      "0     2020-05      2727.48       454.58   0.166667\n",
      "1     2020-06     13134.54      2189.09   0.166667\n",
      "2     2020-07     27990.84      4665.14   0.166667\n",
      "3     2020-08     44457.72      7409.62   0.166667\n",
      "4     2020-09     49687.56      8400.51   0.168644\n",
      "5     2020-10     69135.33     12857.68   0.185727\n",
      "6     2020-11     86374.17     16138.67   0.186854\n",
      "7     2020-12    118944.21     22329.81   0.187398\n",
      "8     2021-01    136658.34     25718.89   0.187876\n",
      "9     2021-02    133240.47     25108.72   0.188443\n",
      "10    2021-03    168063.66     33012.71   0.196215\n",
      "11    2021-04    196862.16     39578.91   0.201952\n",
      "12    2021-05    231620.61     48150.81   0.208299\n",
      "13    2021-06    246159.84     52253.09   0.213077\n",
      "14    2021-07    268616.04     57915.14   0.215470\n",
      "15    2021-08    311098.59     68079.39   0.218204\n",
      "16    2021-09    300327.63     68645.73   0.227747\n",
      "17    2021-10    354100.67     81439.67   0.230699\n",
      "18    2021-11    364516.70     84949.90   0.233139\n",
      "19    2021-12    403985.96     95399.31   0.236334\n",
      "20    2022-01    478107.58    112944.93   0.236307\n",
      "21    2022-02    468192.66    111661.66   0.238092\n",
      "22    2022-03    557278.16    133721.26   0.239935\n",
      "23    2022-04    586643.28    141137.88   0.240821\n"
     ]
    }
   ],
   "source": [
    "conv_bkd_nc_complete[\"take_rate\"] = conv_bkd_nc_complete[\"net_revenue\"] / conv_bkd_nc_complete[\"total_w_fee\"]\n",
    "q2 = conv_bkd_nc_complete.groupby(by=\"year-month\", as_index=False).agg({ \"total_w_fee\" : \"sum\", \"net_revenue\" : \"sum\", \"take_rate\": \"mean\"})\n",
    "print(q2)"
   ]
  },
  {
   "cell_type": "markdown",
   "id": "31e55a07",
   "metadata": {},
   "source": [
    "## 3) Did take rate trend up or trend down?"
   ]
  },
  {
   "cell_type": "markdown",
   "id": "7b4ae2df",
   "metadata": {},
   "source": [
    "# Answer to question 3:"
   ]
  },
  {
   "cell_type": "code",
   "execution_count": 50,
   "id": "b7d23a72",
   "metadata": {
    "scrolled": false
   },
   "outputs": [
    {
     "data": {
      "image/png": "[encoded data removed]",
      "text/plain": [
       "<Figure size 1152x576 with 1 Axes>"
      ]
     },
     "metadata": {
      "needs_background": "light"
     },
     "output_type": "display_data"
    }
   ],
   "source": [
    "plt.plot(\"year-month\", \"take_rate\", data=q2, color=\"#d46d59\")\n",
    "plt.xlabel(\"date\", fontsize=14)\n",
    "plt.ylabel(\"take rate\", fontsize=14)\n",
    "plt.title(\"evolution of monthly average take rate\", fontsize=16)\n",
    "plt.yticks(fontsize=12)\n",
    "plt.xticks(rotation=90, fontsize=12)\n",
    "plt.show()"
   ]
  },
  {
   "cell_type": "markdown",
   "id": "63186eba",
   "metadata": {},
   "source": [
    "Take rate clearly trended up over time! it is evident in this graph. This is good news for Rover!"
   ]
  },
  {
   "cell_type": "markdown",
   "id": "8666557d",
   "metadata": {},
   "source": [
    "## 4) Provide an explanation for this trend. Be sure to provide additional data/charts/evidence that justify your explanation. Any claims should be backed by data."
   ]
  },
  {
   "cell_type": "markdown",
   "id": "2490915d",
   "metadata": {},
   "source": [
    "So, take rate is a KPIs elaborated from \"net_revenue\" and \"total_w_fee\", it is just the expression TR:\n",
    "\n",
    "TR = net_revenue/total_w_fee, which based on our variables means:\n",
    "\n",
    "TR = bt + bt(fee1) - bt + bt(fee2)) \n",
    "           bt + bt(fee1)\n",
    "\n",
    "TR = bt(fee1) + bt(fee2)\n",
    "        bt + bt(fee1)\n",
    "\n",
    "Then, from an algebraic point of view, TR can only increase (considering all other variables unchanging) if:\n",
    "\n",
    "fee2 increases\n",
    "fee1 increases (given that bt(fee2) > bt, as fee2 > 0)\n",
    "\n",
    "Therefore, to find an explanation for this behaviour, we will look at the particular behaviour of these 2 variables, the fee we charge the pet owners and the fee we discount from the payments we make to the service providers."
   ]
  },
  {
   "cell_type": "markdown",
   "id": "22b2693e",
   "metadata": {},
   "source": [
    "We want to know, for each booking_id (conversation_id that has a booked_at date & does not have a cancelled date), how many different pet_ids were involved (So we know the number of pets per booked service)."
   ]
  },
  {
   "cell_type": "code",
   "execution_count": 51,
   "id": "19e30bb7",
   "metadata": {},
   "outputs": [
    {
     "data": {
      "text/html": [
       "<div>\n",
       "<style scoped>\n",
       "    .dataframe tbody tr th:only-of-type {\n",
       "        vertical-align: middle;\n",
       "    }\n",
       "\n",
       "    .dataframe tbody tr th {\n",
       "        vertical-align: top;\n",
       "    }\n",
       "\n",
       "    .dataframe thead th {\n",
       "        text-align: right;\n",
       "    }\n",
       "</style>\n",
       "<table border=\"1\" class=\"dataframe\">\n",
       "  <thead>\n",
       "    <tr style=\"text-align: right;\">\n",
       "      <th></th>\n",
       "      <th>conversation_id</th>\n",
       "      <th>pet_id</th>\n",
       "    </tr>\n",
       "  </thead>\n",
       "  <tbody>\n",
       "    <tr>\n",
       "      <th>0</th>\n",
       "      <td>1</td>\n",
       "      <td>2</td>\n",
       "    </tr>\n",
       "    <tr>\n",
       "      <th>1</th>\n",
       "      <td>2</td>\n",
       "      <td>2</td>\n",
       "    </tr>\n",
       "    <tr>\n",
       "      <th>2</th>\n",
       "      <td>3</td>\n",
       "      <td>3</td>\n",
       "    </tr>\n",
       "    <tr>\n",
       "      <th>3</th>\n",
       "      <td>4</td>\n",
       "      <td>2</td>\n",
       "    </tr>\n",
       "    <tr>\n",
       "      <th>4</th>\n",
       "      <td>5</td>\n",
       "      <td>2</td>\n",
       "    </tr>\n",
       "    <tr>\n",
       "      <th>5</th>\n",
       "      <td>6</td>\n",
       "      <td>2</td>\n",
       "    </tr>\n",
       "    <tr>\n",
       "      <th>6</th>\n",
       "      <td>7</td>\n",
       "      <td>2</td>\n",
       "    </tr>\n",
       "    <tr>\n",
       "      <th>7</th>\n",
       "      <td>8</td>\n",
       "      <td>1</td>\n",
       "    </tr>\n",
       "    <tr>\n",
       "      <th>8</th>\n",
       "      <td>9</td>\n",
       "      <td>2</td>\n",
       "    </tr>\n",
       "    <tr>\n",
       "      <th>9</th>\n",
       "      <td>10</td>\n",
       "      <td>1</td>\n",
       "    </tr>\n",
       "  </tbody>\n",
       "</table>\n",
       "</div>"
      ],
      "text/plain": [
       "   conversation_id  pet_id\n",
       "0                1       2\n",
       "1                2       2\n",
       "2                3       3\n",
       "3                4       2\n",
       "4                5       2\n",
       "5                6       2\n",
       "6                7       2\n",
       "7                8       1\n",
       "8                9       2\n",
       "9               10       1"
      ]
     },
     "execution_count": 51,
     "metadata": {},
     "output_type": "execute_result"
    }
   ],
   "source": [
    "pets_per_service = conv_pet.groupby(by=\"conversation_id\", as_index=False).pet_id.count()\n",
    "pets_per_service.head(10)"
   ]
  },
  {
   "cell_type": "code",
   "execution_count": 52,
   "id": "41adfe20",
   "metadata": {},
   "outputs": [],
   "source": [
    "conv_bkd_nc_complete2 = pd.merge(left = conv_bkd_nc_complete, right = pets_per_service, left_on = \"id_x\", right_on = \"conversation_id\", how = \"left\")"
   ]
  },
  {
   "cell_type": "code",
   "execution_count": 53,
   "id": "6517bd0a",
   "metadata": {},
   "outputs": [],
   "source": [
    "conv_bkd_nc_complete2[\"year\"] = conv_bkd_nc_complete2[\"booked_at\"].dt.year.astype(\"int\")\n",
    "conv_bkd_nc_complete2[\"month\"] = conv_bkd_nc_complete2[\"booked_at\"].dt.month"
   ]
  },
  {
   "cell_type": "code",
   "execution_count": 56,
   "id": "1d3e1db8",
   "metadata": {},
   "outputs": [
    {
     "data": {
      "text/plain": [
       "Index(['id_x', 'start_date', 'end_date', 'units', 'added_x', 'booking_total',\n",
       "       'cancellation_fault', 'requester_id', 'service_id', 'booked_at',\n",
       "       'cancelled_at', 'id_y', 'first_name', 'last_name', 'email', 'channel',\n",
       "       'date_joined', 'photo', 'fee_x', 'gender', 'total_w_fee',\n",
       "       'month_booked', 'id', 'service_type', 'cancellation_policy',\n",
       "       'can_provide_oral_medication', 'can_provide_injected_medication',\n",
       "       'senior_dog_experience', 'special_needs_experience', 'takes_small_dogs',\n",
       "       'takes_medium_dogs', 'takes_large_dogs', 'takes_puppies', 'max_dogs',\n",
       "       'provider_id', 'fee_y', 'price', 'added_y', 'prov_pay', 'net_revenue',\n",
       "       'year-month', 'take_rate', 'conversation_id', 'pet_id', 'year',\n",
       "       'month'],\n",
       "      dtype='object')"
      ]
     },
     "execution_count": 56,
     "metadata": {},
     "output_type": "execute_result"
    }
   ],
   "source": [
    "conv_bkd_nc_complete2.columns"
   ]
  },
  {
   "cell_type": "code",
   "execution_count": 57,
   "id": "dbb72547",
   "metadata": {},
   "outputs": [],
   "source": [
    "conv_bkd_nc_complete2.columns = ['conversation_id', 'start_date', 'end_date', 'units_of_service',\n",
    "       'added_on', 'booking_total', 'cancellation_fault', 'requester_id',\n",
    "       'service_id', 'booked_at', 'cancelled_at', 'user_id', 'first_name',\n",
    "       'last_name', 'email', 'channel', 'date_joined', 'photo', 'fee_owner',\n",
    "       'gender', 'total_w_fee', 'month_booked', 'service_id2', 'service_type',\n",
    "       'cancellation_policy', 'can_provide_oral_medication',\n",
    "       'can_provide_injected_medication', 'senior_dog_experience',\n",
    "       'special_needs_experience', 'takes_small_dogs', 'takes_medium_dogs',\n",
    "       'takes_large_dogs', 'takes_puppies', 'max_dogs', 'provider_id',\n",
    "       'fee_provider', 'price', 'added_y', 'prov_pay', 'net_revenue',\n",
    "       'year-month', 'take_rate', 'conversation_id2', 'number_of_pets', 'year', 'month']"
   ]
  },
  {
   "cell_type": "code",
   "execution_count": 58,
   "id": "7c5a617e",
   "metadata": {},
   "outputs": [
    {
     "data": {
      "text/html": [
       "<div>\n",
       "<style scoped>\n",
       "    .dataframe tbody tr th:only-of-type {\n",
       "        vertical-align: middle;\n",
       "    }\n",
       "\n",
       "    .dataframe tbody tr th {\n",
       "        vertical-align: top;\n",
       "    }\n",
       "\n",
       "    .dataframe thead th {\n",
       "        text-align: right;\n",
       "    }\n",
       "</style>\n",
       "<table border=\"1\" class=\"dataframe\">\n",
       "  <thead>\n",
       "    <tr style=\"text-align: right;\">\n",
       "      <th></th>\n",
       "      <th>conversation_id</th>\n",
       "      <th>start_date</th>\n",
       "      <th>end_date</th>\n",
       "      <th>units_of_service</th>\n",
       "      <th>added_on</th>\n",
       "      <th>booking_total</th>\n",
       "      <th>cancellation_fault</th>\n",
       "      <th>requester_id</th>\n",
       "      <th>service_id</th>\n",
       "      <th>booked_at</th>\n",
       "      <th>...</th>\n",
       "      <th>price</th>\n",
       "      <th>added_y</th>\n",
       "      <th>prov_pay</th>\n",
       "      <th>net_revenue</th>\n",
       "      <th>year-month</th>\n",
       "      <th>take_rate</th>\n",
       "      <th>conversation_id2</th>\n",
       "      <th>number_of_pets</th>\n",
       "      <th>year</th>\n",
       "      <th>month</th>\n",
       "    </tr>\n",
       "  </thead>\n",
       "  <tbody>\n",
       "    <tr>\n",
       "      <th>0</th>\n",
       "      <td>1</td>\n",
       "      <td>2022-04-10</td>\n",
       "      <td>2022-04-16</td>\n",
       "      <td>6</td>\n",
       "      <td>2022-03-29 09:49:55.672654</td>\n",
       "      <td>252</td>\n",
       "      <td>NaN</td>\n",
       "      <td>64476</td>\n",
       "      <td>10272</td>\n",
       "      <td>2022-03-30 01:13:31.396982</td>\n",
       "      <td>...</td>\n",
       "      <td>21</td>\n",
       "      <td>2021-06-22 13:04:09.769296</td>\n",
       "      <td>201.6</td>\n",
       "      <td>68.04</td>\n",
       "      <td>2022-03</td>\n",
       "      <td>0.252336</td>\n",
       "      <td>1</td>\n",
       "      <td>2</td>\n",
       "      <td>2022</td>\n",
       "      <td>3</td>\n",
       "    </tr>\n",
       "    <tr>\n",
       "      <th>1</th>\n",
       "      <td>3</td>\n",
       "      <td>2022-04-23</td>\n",
       "      <td>2022-04-24</td>\n",
       "      <td>1</td>\n",
       "      <td>2022-04-16 11:26:48.319234</td>\n",
       "      <td>69</td>\n",
       "      <td>NaN</td>\n",
       "      <td>64474</td>\n",
       "      <td>15367</td>\n",
       "      <td>2022-04-19 21:46:57.694034</td>\n",
       "      <td>...</td>\n",
       "      <td>23</td>\n",
       "      <td>2021-12-23 05:25:34.579834</td>\n",
       "      <td>55.2</td>\n",
       "      <td>18.63</td>\n",
       "      <td>2022-04</td>\n",
       "      <td>0.252336</td>\n",
       "      <td>3</td>\n",
       "      <td>3</td>\n",
       "      <td>2022</td>\n",
       "      <td>4</td>\n",
       "    </tr>\n",
       "    <tr>\n",
       "      <th>2</th>\n",
       "      <td>6</td>\n",
       "      <td>2022-04-28</td>\n",
       "      <td>2022-05-01</td>\n",
       "      <td>3</td>\n",
       "      <td>2022-04-16 13:01:53.533798</td>\n",
       "      <td>216</td>\n",
       "      <td>NaN</td>\n",
       "      <td>64469</td>\n",
       "      <td>11387</td>\n",
       "      <td>2022-04-19 06:47:02.604882</td>\n",
       "      <td>...</td>\n",
       "      <td>36</td>\n",
       "      <td>2022-01-12 04:33:34.874966</td>\n",
       "      <td>172.8</td>\n",
       "      <td>58.32</td>\n",
       "      <td>2022-04</td>\n",
       "      <td>0.252336</td>\n",
       "      <td>6</td>\n",
       "      <td>2</td>\n",
       "      <td>2022</td>\n",
       "      <td>4</td>\n",
       "    </tr>\n",
       "    <tr>\n",
       "      <th>3</th>\n",
       "      <td>9</td>\n",
       "      <td>2022-04-12</td>\n",
       "      <td>2022-04-15</td>\n",
       "      <td>3</td>\n",
       "      <td>2022-03-31 14:03:38.120848</td>\n",
       "      <td>228</td>\n",
       "      <td>NaN</td>\n",
       "      <td>64465</td>\n",
       "      <td>20265</td>\n",
       "      <td>2022-04-05 03:09:19.287573</td>\n",
       "      <td>...</td>\n",
       "      <td>38</td>\n",
       "      <td>2022-03-11 05:55:27.205574</td>\n",
       "      <td>182.4</td>\n",
       "      <td>61.56</td>\n",
       "      <td>2022-04</td>\n",
       "      <td>0.252336</td>\n",
       "      <td>9</td>\n",
       "      <td>2</td>\n",
       "      <td>2022</td>\n",
       "      <td>4</td>\n",
       "    </tr>\n",
       "    <tr>\n",
       "      <th>4</th>\n",
       "      <td>16</td>\n",
       "      <td>2022-04-22</td>\n",
       "      <td>2022-04-26</td>\n",
       "      <td>4</td>\n",
       "      <td>2022-04-14 19:08:11.931551</td>\n",
       "      <td>120</td>\n",
       "      <td>NaN</td>\n",
       "      <td>64458</td>\n",
       "      <td>8722</td>\n",
       "      <td>2022-04-16 15:36:02.301549</td>\n",
       "      <td>...</td>\n",
       "      <td>30</td>\n",
       "      <td>2021-07-05 00:22:12.701395</td>\n",
       "      <td>96.0</td>\n",
       "      <td>32.40</td>\n",
       "      <td>2022-04</td>\n",
       "      <td>0.252336</td>\n",
       "      <td>16</td>\n",
       "      <td>1</td>\n",
       "      <td>2022</td>\n",
       "      <td>4</td>\n",
       "    </tr>\n",
       "    <tr>\n",
       "      <th>...</th>\n",
       "      <td>...</td>\n",
       "      <td>...</td>\n",
       "      <td>...</td>\n",
       "      <td>...</td>\n",
       "      <td>...</td>\n",
       "      <td>...</td>\n",
       "      <td>...</td>\n",
       "      <td>...</td>\n",
       "      <td>...</td>\n",
       "      <td>...</td>\n",
       "      <td>...</td>\n",
       "      <td>...</td>\n",
       "      <td>...</td>\n",
       "      <td>...</td>\n",
       "      <td>...</td>\n",
       "      <td>...</td>\n",
       "      <td>...</td>\n",
       "      <td>...</td>\n",
       "      <td>...</td>\n",
       "      <td>...</td>\n",
       "      <td>...</td>\n",
       "    </tr>\n",
       "    <tr>\n",
       "      <th>29811</th>\n",
       "      <td>79398</td>\n",
       "      <td>2022-03-19</td>\n",
       "      <td>2022-03-21</td>\n",
       "      <td>2</td>\n",
       "      <td>2022-03-12 20:05:52.443133</td>\n",
       "      <td>128</td>\n",
       "      <td>NaN</td>\n",
       "      <td>12609</td>\n",
       "      <td>4501</td>\n",
       "      <td>2022-03-13 10:35:52.381303</td>\n",
       "      <td>...</td>\n",
       "      <td>32</td>\n",
       "      <td>2020-07-10 18:34:54.780189</td>\n",
       "      <td>108.8</td>\n",
       "      <td>28.16</td>\n",
       "      <td>2022-03</td>\n",
       "      <td>0.205607</td>\n",
       "      <td>79398</td>\n",
       "      <td>2</td>\n",
       "      <td>2022</td>\n",
       "      <td>3</td>\n",
       "    </tr>\n",
       "    <tr>\n",
       "      <th>29812</th>\n",
       "      <td>79402</td>\n",
       "      <td>2021-07-21</td>\n",
       "      <td>2021-07-26</td>\n",
       "      <td>5</td>\n",
       "      <td>2021-07-09 14:11:59.340664</td>\n",
       "      <td>310</td>\n",
       "      <td>NaN</td>\n",
       "      <td>12606</td>\n",
       "      <td>11294</td>\n",
       "      <td>2021-07-17 07:13:27.181453</td>\n",
       "      <td>...</td>\n",
       "      <td>31</td>\n",
       "      <td>2021-05-14 22:31:21.896942</td>\n",
       "      <td>248.0</td>\n",
       "      <td>77.50</td>\n",
       "      <td>2021-07</td>\n",
       "      <td>0.238095</td>\n",
       "      <td>79402</td>\n",
       "      <td>2</td>\n",
       "      <td>2021</td>\n",
       "      <td>7</td>\n",
       "    </tr>\n",
       "    <tr>\n",
       "      <th>29813</th>\n",
       "      <td>79404</td>\n",
       "      <td>2022-03-02</td>\n",
       "      <td>2022-03-05</td>\n",
       "      <td>3</td>\n",
       "      <td>2022-02-22 05:48:19.054328</td>\n",
       "      <td>132</td>\n",
       "      <td>NaN</td>\n",
       "      <td>12606</td>\n",
       "      <td>10244</td>\n",
       "      <td>2022-02-26 16:30:38.796213</td>\n",
       "      <td>...</td>\n",
       "      <td>22</td>\n",
       "      <td>2021-11-21 12:08:37.003850</td>\n",
       "      <td>105.6</td>\n",
       "      <td>33.00</td>\n",
       "      <td>2022-02</td>\n",
       "      <td>0.238095</td>\n",
       "      <td>79404</td>\n",
       "      <td>2</td>\n",
       "      <td>2022</td>\n",
       "      <td>2</td>\n",
       "    </tr>\n",
       "    <tr>\n",
       "      <th>29814</th>\n",
       "      <td>79407</td>\n",
       "      <td>2021-01-23</td>\n",
       "      <td>2021-01-28</td>\n",
       "      <td>5</td>\n",
       "      <td>2021-01-11 14:24:51.164467</td>\n",
       "      <td>350</td>\n",
       "      <td>NaN</td>\n",
       "      <td>12604</td>\n",
       "      <td>20187</td>\n",
       "      <td>2021-01-19 05:43:08.599332</td>\n",
       "      <td>...</td>\n",
       "      <td>35</td>\n",
       "      <td>2020-10-06 10:12:54.339605</td>\n",
       "      <td>297.5</td>\n",
       "      <td>70.00</td>\n",
       "      <td>2021-01</td>\n",
       "      <td>0.190476</td>\n",
       "      <td>79407</td>\n",
       "      <td>2</td>\n",
       "      <td>2021</td>\n",
       "      <td>1</td>\n",
       "    </tr>\n",
       "    <tr>\n",
       "      <th>29815</th>\n",
       "      <td>79411</td>\n",
       "      <td>2022-03-02</td>\n",
       "      <td>2022-03-05</td>\n",
       "      <td>3</td>\n",
       "      <td>2022-02-20 11:09:27.147101</td>\n",
       "      <td>78</td>\n",
       "      <td>NaN</td>\n",
       "      <td>12602</td>\n",
       "      <td>16945</td>\n",
       "      <td>2022-02-28 06:34:48.244038</td>\n",
       "      <td>...</td>\n",
       "      <td>26</td>\n",
       "      <td>2021-01-31 07:04:36.205701</td>\n",
       "      <td>66.3</td>\n",
       "      <td>15.60</td>\n",
       "      <td>2022-02</td>\n",
       "      <td>0.190476</td>\n",
       "      <td>79411</td>\n",
       "      <td>1</td>\n",
       "      <td>2022</td>\n",
       "      <td>2</td>\n",
       "    </tr>\n",
       "  </tbody>\n",
       "</table>\n",
       "<p>29816 rows × 46 columns</p>\n",
       "</div>"
      ],
      "text/plain": [
       "       conversation_id start_date   end_date  units_of_service  \\\n",
       "0                    1 2022-04-10 2022-04-16                 6   \n",
       "1                    3 2022-04-23 2022-04-24                 1   \n",
       "2                    6 2022-04-28 2022-05-01                 3   \n",
       "3                    9 2022-04-12 2022-04-15                 3   \n",
       "4                   16 2022-04-22 2022-04-26                 4   \n",
       "...                ...        ...        ...               ...   \n",
       "29811            79398 2022-03-19 2022-03-21                 2   \n",
       "29812            79402 2021-07-21 2021-07-26                 5   \n",
       "29813            79404 2022-03-02 2022-03-05                 3   \n",
       "29814            79407 2021-01-23 2021-01-28                 5   \n",
       "29815            79411 2022-03-02 2022-03-05                 3   \n",
       "\n",
       "                        added_on  booking_total cancellation_fault  \\\n",
       "0     2022-03-29 09:49:55.672654            252                NaN   \n",
       "1     2022-04-16 11:26:48.319234             69                NaN   \n",
       "2     2022-04-16 13:01:53.533798            216                NaN   \n",
       "3     2022-03-31 14:03:38.120848            228                NaN   \n",
       "4     2022-04-14 19:08:11.931551            120                NaN   \n",
       "...                          ...            ...                ...   \n",
       "29811 2022-03-12 20:05:52.443133            128                NaN   \n",
       "29812 2021-07-09 14:11:59.340664            310                NaN   \n",
       "29813 2022-02-22 05:48:19.054328            132                NaN   \n",
       "29814 2021-01-11 14:24:51.164467            350                NaN   \n",
       "29815 2022-02-20 11:09:27.147101             78                NaN   \n",
       "\n",
       "       requester_id  service_id                  booked_at  ... price  \\\n",
       "0             64476       10272 2022-03-30 01:13:31.396982  ...    21   \n",
       "1             64474       15367 2022-04-19 21:46:57.694034  ...    23   \n",
       "2             64469       11387 2022-04-19 06:47:02.604882  ...    36   \n",
       "3             64465       20265 2022-04-05 03:09:19.287573  ...    38   \n",
       "4             64458        8722 2022-04-16 15:36:02.301549  ...    30   \n",
       "...             ...         ...                        ...  ...   ...   \n",
       "29811         12609        4501 2022-03-13 10:35:52.381303  ...    32   \n",
       "29812         12606       11294 2021-07-17 07:13:27.181453  ...    31   \n",
       "29813         12606       10244 2022-02-26 16:30:38.796213  ...    22   \n",
       "29814         12604       20187 2021-01-19 05:43:08.599332  ...    35   \n",
       "29815         12602       16945 2022-02-28 06:34:48.244038  ...    26   \n",
       "\n",
       "                          added_y prov_pay net_revenue year-month take_rate  \\\n",
       "0      2021-06-22 13:04:09.769296    201.6       68.04    2022-03  0.252336   \n",
       "1      2021-12-23 05:25:34.579834     55.2       18.63    2022-04  0.252336   \n",
       "2      2022-01-12 04:33:34.874966    172.8       58.32    2022-04  0.252336   \n",
       "3      2022-03-11 05:55:27.205574    182.4       61.56    2022-04  0.252336   \n",
       "4      2021-07-05 00:22:12.701395     96.0       32.40    2022-04  0.252336   \n",
       "...                           ...      ...         ...        ...       ...   \n",
       "29811  2020-07-10 18:34:54.780189    108.8       28.16    2022-03  0.205607   \n",
       "29812  2021-05-14 22:31:21.896942    248.0       77.50    2021-07  0.238095   \n",
       "29813  2021-11-21 12:08:37.003850    105.6       33.00    2022-02  0.238095   \n",
       "29814  2020-10-06 10:12:54.339605    297.5       70.00    2021-01  0.190476   \n",
       "29815  2021-01-31 07:04:36.205701     66.3       15.60    2022-02  0.190476   \n",
       "\n",
       "      conversation_id2 number_of_pets  year month  \n",
       "0                    1              2  2022     3  \n",
       "1                    3              3  2022     4  \n",
       "2                    6              2  2022     4  \n",
       "3                    9              2  2022     4  \n",
       "4                   16              1  2022     4  \n",
       "...                ...            ...   ...   ...  \n",
       "29811            79398              2  2022     3  \n",
       "29812            79402              2  2021     7  \n",
       "29813            79404              2  2022     2  \n",
       "29814            79407              2  2021     1  \n",
       "29815            79411              1  2022     2  \n",
       "\n",
       "[29816 rows x 46 columns]"
      ]
     },
     "execution_count": 58,
     "metadata": {},
     "output_type": "execute_result"
    }
   ],
   "source": [
    "conv_bkd_nc_complete2"
   ]
  },
  {
   "cell_type": "markdown",
   "id": "636c97e5",
   "metadata": {},
   "source": [
    "A dataframe to plot evolution over time of different variables and aggregations"
   ]
  },
  {
   "cell_type": "code",
   "execution_count": 59,
   "id": "35205e89",
   "metadata": {},
   "outputs": [],
   "source": [
    "q4 = conv_bkd_nc_complete2.groupby(by=\"year-month\", as_index=False).agg\\\n",
    "({ \"conversation_id\" : \"count\", \"price\" : \"mean\", \"units_of_service\" : \"mean\", \"number_of_pets\" : \"mean\", \\\n",
    "  \"booking_total\" : \"sum\", \"fee_owner\" : \"mean\", \"total_w_fee\" : \"sum\", \\\n",
    "  \"fee_provider\": \"mean\", \"prov_pay\" : \"sum\" , \\\n",
    "  \"net_revenue\" : \"sum\", \"take_rate\": \"mean\"})"
   ]
  },
  {
   "cell_type": "markdown",
   "id": "b86bb977",
   "metadata": {},
   "source": [
    "A dataframe to plot the monthly average, monthly count or monthly sum of different variables"
   ]
  },
  {
   "cell_type": "code",
   "execution_count": 60,
   "id": "58ac9fa8",
   "metadata": {},
   "outputs": [],
   "source": [
    "q4m = conv_bkd_nc_complete2.groupby(by=\"month\", as_index=False).agg\\\n",
    "({ \"conversation_id\" : \"count\", \"price\" : \"mean\", \"units_of_service\" : \"mean\", \"number_of_pets\" : \"mean\", \\\n",
    "  \"booking_total\" : \"sum\", \"fee_owner\" : \"mean\", \"total_w_fee\" : \"sum\", \\\n",
    "  \"fee_provider\": \"mean\", \"prov_pay\" : \"sum\" , \\\n",
    "  \"net_revenue\" : \"sum\", \"take_rate\": \"mean\"})"
   ]
  },
  {
   "cell_type": "markdown",
   "id": "04100c75",
   "metadata": {},
   "source": [
    "A dataframe to plot the yearly average, yearly count or monthly count of different variables"
   ]
  },
  {
   "cell_type": "code",
   "execution_count": 61,
   "id": "383bdb2e",
   "metadata": {},
   "outputs": [],
   "source": [
    "q4y = conv_bkd_nc_complete2.groupby(by=\"year\", as_index=False).agg\\\n",
    "({ \"conversation_id\" : \"count\", \"price\" : \"mean\", \"units_of_service\" : \"mean\", \"number_of_pets\" : \"mean\", \\\n",
    "  \"booking_total\" : \"sum\", \"fee_owner\" : \"mean\", \"total_w_fee\" : \"sum\", \\\n",
    "  \"fee_provider\": \"mean\", \"prov_pay\" : \"sum\" , \\\n",
    "  \"net_revenue\" : \"sum\", \"take_rate\": \"mean\"})"
   ]
  },
  {
   "cell_type": "code",
   "execution_count": 62,
   "id": "e76c956c",
   "metadata": {},
   "outputs": [],
   "source": [
    "def show_evolution(y, A):\n",
    "    fig, (ax1, ax2, ax3) = plt.subplots(1, 3)\n",
    "    fig.suptitle('Analysis of ' + A, fontsize=18)\n",
    "\n",
    "    ax1.plot(\"year-month\", y, data=q4, color=\"#d46d59\")\n",
    "    ax1.set_xlabel(\"date\", fontsize=14)\n",
    "    ax1.set_ylabel(A, fontsize=14)\n",
    "    ax1.set_title(A + \" evolution\", fontsize=14)\n",
    "    for tick in ax1.get_xticklabels():\n",
    "        tick.set_rotation(90)\n",
    "\n",
    "    ax2.bar(\"month\", y, data=q4m, color=\"#59b37d\", edgecolor=\"black\", width=0.7)\n",
    "    ax2.set_xlabel(\"month\", fontsize=14)\n",
    "    ax2.set_ylabel(A, fontsize=14)\n",
    "    ax2.set_title(\"monthly \" + A, fontsize=14)\n",
    "\n",
    "    ax3.bar(\"year\", y, data=q4y, color=\"#3668ad\", edgecolor=\"black\", width=0.4)\n",
    "    ax3.set_xlabel(\"year\", fontsize=14)\n",
    "    ax3.set_ylabel(A, fontsize=14)\n",
    "    ax3.set_title(\"yearly \" + A, fontsize=14)\n",
    "    ax3.set_xticks([2020, 2021, 2022])\n",
    "\n",
    "    plt.show()"
   ]
  },
  {
   "cell_type": "markdown",
   "id": "11917790",
   "metadata": {},
   "source": [
    "Now that we have the q4, q4m, q4y dataframes and a function to plot evolution of variables and monthly/yearly aggregations, let's discover how both owner and service fee behaved! Can they account for the surge in take rate as we think?"
   ]
  },
  {
   "cell_type": "markdown",
   "id": "6ef749bc",
   "metadata": {},
   "source": [
    "# Data/charts/evidence to support my answer to question 4"
   ]
  },
  {
   "cell_type": "code",
   "execution_count": 63,
   "id": "41426110",
   "metadata": {},
   "outputs": [
    {
     "name": "stdout",
     "output_type": "stream",
     "text": [
      "Object `recently` not found.\n"
     ]
    }
   ],
   "source": [
    "How has the average fee we charge to the owners of the pets evolved recently?"
   ]
  },
  {
   "cell_type": "code",
   "execution_count": null,
   "id": "cb7c0df6",
   "metadata": {},
   "outputs": [],
   "source": [
    "How has the average fee we charge to the owners of the pets evolved recently"
   ]
  },
  {
   "cell_type": "code",
   "execution_count": 64,
   "id": "5ca8f218",
   "metadata": {},
   "outputs": [
    {
     "data": {
      "image/png": "[encoded data removed]",
      "text/plain": [
       "<Figure size 1152x576 with 3 Axes>"
      ]
     },
     "metadata": {
      "needs_background": "light"
     },
     "output_type": "display_data"
    }
   ],
   "source": [
    "show_evolution(y=\"fee_owner\", A=\"avg fee for the owner\")"
   ]
  },
  {
   "cell_type": "markdown",
   "id": "af9130d2",
   "metadata": {},
   "source": [
    "Here we make a key discovery: the surge of the average fee for the users who make the bookings. \n",
    "\n",
    "First of all, you can spot on the evolution graph a constant and tremendous increment of this variable. \n",
    "Secondly, focusing on the yearly average you can clearly detect it has risen over 2021 and 2022 (the average fee Rover charges user who book).\n",
    "\n",
    "Hence, the enlargement of the fee we charge to the owner plays a great part in the uplift of the take rate, via the widening of the net revenue Rover can perceive (if you charge more to the owners and keep paying the same to service providers, then your margin grows)."
   ]
  },
  {
   "cell_type": "markdown",
   "id": "50e9f613",
   "metadata": {},
   "source": [
    "Now let's analyze the service provider's fee, the net revenue and the take rate."
   ]
  },
  {
   "cell_type": "code",
   "execution_count": 66,
   "id": "2be7b66a",
   "metadata": {},
   "outputs": [
    {
     "data": {
      "image/png": "[encoded data removed]",
      "text/plain": [
       "<Figure size 1152x576 with 3 Axes>"
      ]
     },
     "metadata": {
      "needs_background": "light"
     },
     "output_type": "display_data"
    }
   ],
   "source": [
    "show_evolution(y=\"fee_provider\", A=\"avg fee for the srvc provider\")"
   ]
  },
  {
   "cell_type": "markdown",
   "id": "53d7938d",
   "metadata": {},
   "source": [
    "Above we can observe how the avg service fee has changed: it has exploded since 2021-02. \n",
    "\n",
    "We can also distinguish how the yearly average has grown, from around 15% in 2020, to over 17.5% nowadays.\n",
    "\n",
    "As the service fee determines how much we discount the booking total before paying service providers, and thus determines how much Rover keeps, a higher service fee is better for business! \n",
    "\n",
    "If the fee we charge the user who hires the services does not change, while the service fee increases, this grows the net revenue and the profit Rover can make."
   ]
  },
  {
   "cell_type": "code",
   "execution_count": 67,
   "id": "703d4c25",
   "metadata": {},
   "outputs": [
    {
     "data": {
      "image/png": "[encoded data removed]",
      "text/plain": [
       "<Figure size 1152x576 with 3 Axes>"
      ]
     },
     "metadata": {
      "needs_background": "light"
     },
     "output_type": "display_data"
    }
   ],
   "source": [
    "show_evolution(y=\"net_revenue\", A=\"sum of net revenue\")"
   ]
  },
  {
   "cell_type": "markdown",
   "id": "e79d1c74",
   "metadata": {},
   "source": [
    "We can see how the net revenue has been growing spectacularly, based on what was explained above. 2022 is set to have a great finale looking at the total in 2021 and where we already are in 2022."
   ]
  },
  {
   "cell_type": "code",
   "execution_count": 68,
   "id": "279e1bfe",
   "metadata": {},
   "outputs": [
    {
     "data": {
      "image/png": "[encoded data removed]",
      "text/plain": [
       "<Figure size 1152x576 with 3 Axes>"
      ]
     },
     "metadata": {
      "needs_background": "light"
     },
     "output_type": "display_data"
    }
   ],
   "source": [
    "show_evolution(y=\"take_rate\", A=\"avg take rate\")"
   ]
  },
  {
   "cell_type": "markdown",
   "id": "e3fb890d",
   "metadata": {},
   "source": [
    "To finalize the analysis, this is the evolution of the take rate, this time considering the monthly/yearly averages. We can see that the average of 2022 is already higher than 2021!"
   ]
  },
  {
   "cell_type": "markdown",
   "id": "2086b85e",
   "metadata": {},
   "source": [
    "# Answer to question 4:"
   ]
  },
  {
   "cell_type": "markdown",
   "id": "7fcd4559",
   "metadata": {},
   "source": [
    "Given all this evidence above, we can state the following: \n",
    "\n",
    "Both the increment in the average service fee and the in the average owner fee are responsible for the growth in the take rate.\n",
    "\n",
    "As we now know that BOTH the fee we charge to the owner and the fee we use to discount from payments to service providers have grown steadily over time, these 2 variables play the MAJOR role in the take rate hike."
   ]
  },
  {
   "cell_type": "markdown",
   "id": "820c7796",
   "metadata": {},
   "source": [
    "## 5) In a meeting, someone asks you if you think it would be a good idea to further increase the sitter service fee in order to increase net revenue. How would you reply to this suggestion?"
   ]
  },
  {
   "cell_type": "markdown",
   "id": "563c8582",
   "metadata": {},
   "source": [
    "# Reasoning and process for question 5"
   ]
  },
  {
   "cell_type": "markdown",
   "id": "744cfc3f",
   "metadata": {},
   "source": [
    "In pure mathematical terms, as net revenue is:\n",
    "\n",
    "(booking_total + booking_total * owner's fee) - (booking_total - booking_total * service_fee)\n",
    "\n",
    "This means that (holding other variables steady):\n",
    "\n",
    "when booking_total increases, net_revenue increases (as long as service_fee > owner's fee, which is the case)\n",
    "\n",
    "when owner's fee increases, net_revenue increases (we charge more for each booking)\n",
    "\n",
    "when service_fee increases, net_revenue increases (we pay less to service providers)\n",
    "\n",
    "Therefore, on the surface this seems like a good idea; any increase in service fees (while holding everything else stil) will result in higher net_revenue."
   ]
  },
  {
   "cell_type": "markdown",
   "id": "998b96d9",
   "metadata": {},
   "source": [
    "Nonetheless, in real life, variables influence each others and are co-dependent: for example, one could think that higher service fees could lead to less services being offered (service providers are receiving smaller payments, so maybe they opt out of the platform or lessen their offer), which in turn could result in less bookings, affecting then the net revenue via the diminishing of the total income (eg: before we had 1200 bookings per month, now we have 900).\n",
    "\n",
    "In summary, the increase of the service fee for the sitter service will result in better net revenue if and only if this \"reduction in payment figures to service providers\" is not offset by an effect \"reduction in total income because now we have less bookings (because there are less services available)\".\n",
    "Let's analyze the data to make sense of it."
   ]
  },
  {
   "cell_type": "markdown",
   "id": "ba344432",
   "metadata": {},
   "source": [
    "# Are payments to service providers different when the service fee changes?"
   ]
  },
  {
   "cell_type": "markdown",
   "id": "eba2ac90",
   "metadata": {},
   "source": [
    "Let's isolate the sitter service fee, and analyze the payments to providers under different service fees."
   ]
  },
  {
   "cell_type": "code",
   "execution_count": 80,
   "id": "6278a9fc",
   "metadata": {},
   "outputs": [],
   "source": [
    "sitter = conv_bkd_nc_complete2[conv_bkd_nc_complete2.service_type == \"day-care\"]"
   ]
  },
  {
   "cell_type": "code",
   "execution_count": 81,
   "id": "0128451e",
   "metadata": {},
   "outputs": [
    {
     "data": {
      "image/png": "[encoded data removed]",
      "text/plain": [
       "<Figure size 1152x576 with 1 Axes>"
      ]
     },
     "metadata": {
      "needs_background": "light"
     },
     "output_type": "display_data"
    }
   ],
   "source": [
    "plt.scatter(\"fee_provider\", \"prov_pay\", data=sitter, alpha=0.2)\n",
    "plt.xlabel(\"service_fee\", fontsize=12)\n",
    "plt.ylabel(\"total payment to service providers\", fontsize=12)\n",
    "plt.title(\"Distribution of payments to service providers according to service fee\", fontsize=14)\n",
    "plt.show()"
   ]
  },
  {
   "cell_type": "markdown",
   "id": "4fcdb7ee",
   "metadata": {},
   "source": [
    "We can see here that we only have 2 different service_fees for the day-care service: it's either 0.15 or 0.2. Also, we can see that there are some larger payments to service providers when the fee is 0.15 compared to 0.2.\n",
    "\n",
    "This seems in line with what we discussed: higher service_fees are better for the business and net_revenue, as we are reducing the payments to service providers.\n",
    "\n",
    "Let's look at the mean and average payments to service providers, for bookings with service_fee 15% and bookings with service_fee 20%, to capture what we see on the scatter plot."
   ]
  },
  {
   "cell_type": "code",
   "execution_count": 92,
   "id": "f6160b83",
   "metadata": {},
   "outputs": [
    {
     "name": "stdout",
     "output_type": "stream",
     "text": [
      "avg payment to sitters when fee is 20% is 139 \n",
      "avg payment to sitters when fee is 15% is 150 \n",
      "\n",
      "median payment to sitters when fee is 20% is 116.0 \n",
      "median payment to sitters when fee is 15% is 127.5\n"
     ]
    }
   ],
   "source": [
    "print(\"avg payment to sitters when fee is 20% is {}\".format(round(sitter.loc[sitter.fee_provider == 0.2, :].prov_pay.mean())), \"\\n\"\n",
    "\"avg payment to sitters when fee is 15% is {}\".format(round(sitter.loc[sitter.fee_provider == 0.15, :].prov_pay.mean())), \"\\n\\n\"\n",
    "\"median payment to sitters when fee is 20% is {}\".format(sitter.loc[sitter.fee_provider == 0.2, :].prov_pay.median()), \"\\n\"\n",
    "\"median payment to sitters when fee is 15% is {}\".format(sitter.loc[sitter.fee_provider == 0.15, :].prov_pay.median()))"
   ]
  },
  {
   "cell_type": "markdown",
   "id": "5647b1bf",
   "metadata": {},
   "source": [
    "So both by taking a look at the mean and median payments to providers (booking total - booking total * service fee), we can observe that when the fee is higher (20% vs 15%), on average we pay less to service providers. This just confirms what we discussed before. "
   ]
  },
  {
   "cell_type": "markdown",
   "id": "0976bf81",
   "metadata": {},
   "source": [
    "Now, the question is, do we have much fewer services offered when the fee we keep is 20% compared to 15%?"
   ]
  },
  {
   "cell_type": "markdown",
   "id": "f210c757",
   "metadata": {},
   "source": [
    "# Looking on the supply side: do we see a sharp decline in number of offered services (because of lower payments) when service fee is 20% instead of 15%? For the sitter service specifically"
   ]
  },
  {
   "cell_type": "code",
   "execution_count": 97,
   "id": "d1e75522",
   "metadata": {},
   "outputs": [],
   "source": [
    "srvc[\"added\"] = pd.to_datetime(srvc[\"added\"])\n",
    "srvc[\"year-month\"] = srvc[\"added\"].dt.to_period(\"M\")\n",
    "srvc[\"year-month\"] = srvc[\"year-month\"].astype(\"str\")"
   ]
  },
  {
   "cell_type": "code",
   "execution_count": 98,
   "id": "73bdd890",
   "metadata": {},
   "outputs": [],
   "source": [
    "srvc_ev = srvc.loc[srvc.service_type == \"day-care\", :].groupby([\"fee\", \"year-month\"], as_index=False).id.count()"
   ]
  },
  {
   "cell_type": "code",
   "execution_count": 99,
   "id": "badc670f",
   "metadata": {},
   "outputs": [],
   "source": [
    "s15 = srvc_ev[srvc_ev.fee == 0.15]\n",
    "s20 = srvc_ev[srvc_ev.fee == 0.2]"
   ]
  },
  {
   "cell_type": "code",
   "execution_count": 100,
   "id": "07f4d1ab",
   "metadata": {},
   "outputs": [
    {
     "data": {
      "image/png": "[encoded data removed]",
      "text/plain": [
       "<Figure size 1152x576 with 1 Axes>"
      ]
     },
     "metadata": {
      "needs_background": "light"
     },
     "output_type": "display_data"
    }
   ],
   "source": [
    "fix, ax = plt.subplots(sharex=True, sharey=True)\n",
    "\n",
    "ax.plot(\"year-month\", \"id\", data=s15, color=\"blue\")\n",
    "ax.plot(\"year-month\", \"id\", data=s20, color=\"orange\")\n",
    "ax.set_xlabel(\"year-month\", fontsize=14)\n",
    "ax.set_ylabel(\"number of services offered\", fontsize=14)\n",
    "ax.set_title(\"evolution of number of services offered, for service fees of 15% and 20%\", fontsize=14)\n",
    "for tick in ax.get_xticklabels():\n",
    "        tick.set_rotation(90)\n",
    "ax.legend(fontsize=\"large\")\n",
    "plt.show()"
   ]
  },
  {
   "cell_type": "markdown",
   "id": "37b43485",
   "metadata": {},
   "source": [
    "First thing noteworthy here is that services fees of 15% and 20% for the sitter service do not co-exist: on february 2021 there was a change in strategy and from then onwards the service fee we keep from service providers payment has been 20%, before that moment it had always been 15%.\n",
    "This is very clear evidence that the decrease in supply and services offered does not happen: When the change was made and service fee was 20%, the number of offered services kept on growing, relentlessly. \n",
    "\n",
    "Therefore, we can conclude that the increase from 15% to 20% on the service fee for the sitters was a successful move, and that it improved the net revenue (because the margin is widening and we know the supply is not dropping)."
   ]
  },
  {
   "cell_type": "markdown",
   "id": "f2012c35",
   "metadata": {},
   "source": [
    "But just for some extra information, let's analyze the booking side of things to confirm our thoughts"
   ]
  },
  {
   "cell_type": "markdown",
   "id": "195cc5dd",
   "metadata": {},
   "source": [
    "# Looking on the demand side: do we see a sharp decline in number of bookings (cause of available supply) when service fee is 20% instead of 15%?"
   ]
  },
  {
   "cell_type": "code",
   "execution_count": 73,
   "id": "a0d33e77",
   "metadata": {},
   "outputs": [
    {
     "name": "stdout",
     "output_type": "stream",
     "text": [
      "number of bookings when fee is 20% is 4783 \n",
      "number of bookings when fee is 15% is 3621\n"
     ]
    }
   ],
   "source": [
    "print(\"number of bookings when fee is 20% is {}\".format(sitter.loc[sitter.fee_provider == 0.2, :].conversation_id.count()), \"\\n\"\n",
    "\"number of bookings when fee is 15% is {}\".format(sitter.loc[sitter.fee_provider == 0.15, :].conversation_id.count()))"
   ]
  },
  {
   "cell_type": "markdown",
   "id": "6fb7e3d2",
   "metadata": {},
   "source": [
    "The number of bookings for day-care service when the service fee is 20% is actually higher than the number of booking for day-care service when the service is 15%. \n",
    "We know that the supply did not drop, but this difference has more to do with the growing of the company as a whole(there has been more activity since Rover changed the sitter's service fee on february 2021, and therefore more bookings)."
   ]
  },
  {
   "cell_type": "code",
   "execution_count": 103,
   "id": "f6f380a2",
   "metadata": {},
   "outputs": [
    {
     "data": {
      "text/plain": [
       "35.581231703949214"
      ]
     },
     "execution_count": 103,
     "metadata": {},
     "output_type": "execute_result"
    }
   ],
   "source": [
    "sitter.loc[sitter.fee_provider == 0.15, :].net_revenue.mean()"
   ]
  },
  {
   "cell_type": "code",
   "execution_count": 105,
   "id": "db3a4008",
   "metadata": {},
   "outputs": [
    {
     "data": {
      "text/plain": [
       "45.39265941877454"
      ]
     },
     "execution_count": 105,
     "metadata": {},
     "output_type": "execute_result"
    }
   ],
   "source": [
    "sitter.loc[sitter.fee_provider == 0.2, :].net_revenue.mean()"
   ]
  },
  {
   "cell_type": "markdown",
   "id": "c275aca4",
   "metadata": {},
   "source": [
    "As a final piece of evidence, the average net revenue by booking is :\n",
    "\n",
    "45$ when the service fee is 20%\n",
    "\n",
    "35$ when the service fee is 36"
   ]
  },
  {
   "cell_type": "markdown",
   "id": "6d29ff06",
   "metadata": {},
   "source": [
    "# Answer to question 5"
   ]
  },
  {
   "cell_type": "markdown",
   "id": "485d572a",
   "metadata": {},
   "source": [
    "In summary:\n",
    "\n",
    "This effect clearly (reduction in services offered and so reduction in number of bookings) does not offset the effect caused by higher service fees (reduction in payments and higher margin).\n",
    "Finally, we can conclude that in the case of 15% vs 20% service fees, an increase in service fees actually increases net revenue!\n",
    "\n",
    "Regarding the suggestion to increase the sitter service fee, this could work and could increase net_revenue, as long as the increase in service fee does not drive out enough supply that the number of services offered fall drastically and so the number of bookings also take a hit.\n",
    "\n",
    "In other words, increasing the service fee will grow net revenue as long as *the amount saved with the reduction of payments* > *the reduction in income caused by the reduction of number of total bookings due to lack of supply*\n",
    "\n",
    "This would be my answer specifically:\n",
    "\n",
    "\"Seems like a good idea, so let's try it, but closely monitoring how the number of services offered changes when the service fee increases for service providers, because this could (possibly) cause a big reduction in bookings and then income. If we see this huge drop and the number of bookings plummeting, we should revert back the change. If we do not see a big enough reaction, then we can keep the higher service fees which will result in higher net revenue!\""
   ]
  },
  {
   "cell_type": "markdown",
   "id": "fcb24d1d",
   "metadata": {},
   "source": [
    "## 6) For each day, determine the count of users that joined and were acquired through Google. Plot this and confirm there is an inflection point on or near 2022-01-29 ."
   ]
  },
  {
   "cell_type": "code",
   "execution_count": 106,
   "id": "9adc9cad",
   "metadata": {},
   "outputs": [
    {
     "data": {
      "text/plain": [
       "id                      int64\n",
       "first_name             object\n",
       "last_name              object\n",
       "email                  object\n",
       "channel                object\n",
       "date_joined    datetime64[ns]\n",
       "photo                  object\n",
       "fee                   float64\n",
       "gender                 object\n",
       "dtype: object"
      ]
     },
     "execution_count": 106,
     "metadata": {},
     "output_type": "execute_result"
    }
   ],
   "source": [
    "peop_per.dtypes"
   ]
  },
  {
   "cell_type": "code",
   "execution_count": 107,
   "id": "7b79d5d7",
   "metadata": {},
   "outputs": [],
   "source": [
    "peop_per[\"date_joined2\"] = peop_per.date_joined.dt.date\n",
    "peop_per[\"date_joined2\"] = pd.to_datetime(peop_per[\"date_joined2\"])"
   ]
  },
  {
   "cell_type": "code",
   "execution_count": 108,
   "id": "243e4be1",
   "metadata": {},
   "outputs": [],
   "source": [
    "goog = peop_per[peop_per.channel == \"Google\"]"
   ]
  },
  {
   "cell_type": "code",
   "execution_count": 109,
   "id": "2aeb7306",
   "metadata": {},
   "outputs": [
    {
     "data": {
      "text/plain": [
       "(14341, 10)"
      ]
     },
     "execution_count": 109,
     "metadata": {},
     "output_type": "execute_result"
    }
   ],
   "source": [
    "goog.shape"
   ]
  },
  {
   "cell_type": "code",
   "execution_count": 110,
   "id": "395d56b5",
   "metadata": {},
   "outputs": [],
   "source": [
    "goog_per_day = goog.groupby(by=\"date_joined2\", as_index=False).id.count()"
   ]
  },
  {
   "cell_type": "code",
   "execution_count": 111,
   "id": "712fe6b9",
   "metadata": {},
   "outputs": [
    {
     "data": {
      "text/plain": [
       "Index(['date_joined2', 'id'], dtype='object')"
      ]
     },
     "execution_count": 111,
     "metadata": {},
     "output_type": "execute_result"
    }
   ],
   "source": [
    "goog_per_day.columns"
   ]
  },
  {
   "cell_type": "code",
   "execution_count": 112,
   "id": "75e47ced",
   "metadata": {},
   "outputs": [],
   "source": [
    "goog_per_day1 = goog_per_day.loc[goog_per_day.date_joined2 < \"2022-01-29\", :]\n",
    "goog_per_day2 = goog_per_day.loc[goog_per_day.date_joined2 >= \"2022-01-29\", :]"
   ]
  },
  {
   "cell_type": "markdown",
   "id": "2ce2f7c0",
   "metadata": {},
   "source": [
    "# Answer to question 6"
   ]
  },
  {
   "cell_type": "code",
   "execution_count": 117,
   "id": "537ebe37",
   "metadata": {},
   "outputs": [
    {
     "data": {
      "image/png": "[encoded data removed]",
      "text/plain": [
       "<Figure size 1152x576 with 1 Axes>"
      ]
     },
     "metadata": {
      "needs_background": "light"
     },
     "output_type": "display_data"
    }
   ],
   "source": [
    "fix, ax = plt.subplots(sharex=True, sharey=True)\n",
    "\n",
    "ax.plot(\"date_joined2\", \"id\", data=goog_per_day1, color=\"blue\", linewidth=0.6)\n",
    "ax.plot(\"date_joined2\", \"id\", data=goog_per_day2, color=\"orange\", linewidth=0.6)\n",
    "for tick in ax.get_xticklabels():\n",
    "        tick.set_rotation(90)\n",
    "ax.set_xlabel(\"date\", fontsize=14)\n",
    "ax.set_ylabel(\"number of new users acquired\", fontsize=14)\n",
    "ax.set_title(\"evolution of number of new users acquired through Google, before and after the change in bidding strategy\", fontsize=14)\n",
    "for tick in ax.get_xticklabels():\n",
    "        tick.set_rotation(90)\n",
    "plt.show()"
   ]
  },
  {
   "cell_type": "markdown",
   "id": "b67e1e5c",
   "metadata": {},
   "source": [
    "It is clear in this graph that when Rover started to bid for 1st place new users signup grew tremendously. We can even look at the daily average for these 2 periods to have it just in 2 figure"
   ]
  },
  {
   "cell_type": "code",
   "execution_count": 118,
   "id": "1c491f99",
   "metadata": {},
   "outputs": [
    {
     "data": {
      "text/plain": [
       "15.504038772213248"
      ]
     },
     "execution_count": 118,
     "metadata": {},
     "output_type": "execute_result"
    }
   ],
   "source": [
    "goog_per_day1.id.mean()"
   ]
  },
  {
   "cell_type": "code",
   "execution_count": 119,
   "id": "b6623c47",
   "metadata": {},
   "outputs": [
    {
     "data": {
      "text/plain": [
       "52.71111111111111"
      ]
     },
     "execution_count": 119,
     "metadata": {},
     "output_type": "execute_result"
    }
   ],
   "source": [
    "goog_per_day2.id.mean()"
   ]
  },
  {
   "cell_type": "markdown",
   "id": "10d1d307",
   "metadata": {},
   "source": [
    "Before the change in strategy, Rover averaged 15 new users a day. After they started to bin for 1st place, the average is 52 new users each day, an increase of 246%!"
   ]
  },
  {
   "cell_type": "markdown",
   "id": "8332bb32",
   "metadata": {},
   "source": [
    "## 7) How many users were acquired via Google advertising since 2022-01-29 and what was the average cost per account?"
   ]
  },
  {
   "cell_type": "markdown",
   "id": "a93e7a43",
   "metadata": {},
   "source": [
    "# Answer to question 7"
   ]
  },
  {
   "cell_type": "code",
   "execution_count": 129,
   "id": "36ab6788",
   "metadata": {},
   "outputs": [
    {
     "name": "stdout",
     "output_type": "stream",
     "text": [
      "4744 new users were acquired through Google advertising from 29/01/2022 onwards.\n"
     ]
    }
   ],
   "source": [
    "new_users_n = goog_per_day2.id.sum()\n",
    "print(new_users_n, \"new users were acquired through Google advertising from 29/01/2022 onwards.\")"
   ]
  },
  {
   "cell_type": "code",
   "execution_count": 130,
   "id": "f8b8fa5f",
   "metadata": {},
   "outputs": [],
   "source": [
    "avg_cost_n_acc = 213480/4744"
   ]
  },
  {
   "cell_type": "code",
   "execution_count": 133,
   "id": "71351057",
   "metadata": {},
   "outputs": [
    {
     "name": "stdout",
     "output_type": "stream",
     "text": [
      "45 was the average cost per new account acquired in that period.\n"
     ]
    }
   ],
   "source": [
    "print(round(avg_cost_n_acc), \"was the average cost per new account acquired in that period.\")"
   ]
  },
  {
   "cell_type": "markdown",
   "id": "6a65dfe2",
   "metadata": {},
   "source": [
    "## 8) Estimate how many users would have been acquired had the company not changed its bidding strategy. What would have been the marketing spend in that case?"
   ]
  },
  {
   "cell_type": "markdown",
   "id": "c0f8a61d",
   "metadata": {},
   "source": [
    "Ok, so the first question is what is the daily average number of new users that signed up under the old Google strategy. We can get that number like this:"
   ]
  },
  {
   "cell_type": "code",
   "execution_count": 138,
   "id": "d5a2c2c9",
   "metadata": {},
   "outputs": [
    {
     "name": "stdout",
     "output_type": "stream",
     "text": [
      "the daily average number of new users acquired using the old strategy was 15.5\n"
     ]
    }
   ],
   "source": [
    "daily_avg_1 = goog_per_day1.id.mean()\n",
    "print(\"the daily average number of new users acquired using the old strategy was {}\".format(round(daily_avg_1, 2)))"
   ]
  },
  {
   "cell_type": "markdown",
   "id": "9f802a78",
   "metadata": {},
   "source": [
    "We know that, on average we got 15.5040 new users every day under the old strategy. We also know that each new account we obtained costed Rover around 30$. The last thing to know is how many days we are looking at, that is to say, how many days have passed by under the new bidding method (from 2021-01-29 onwards), so that we can crunch some numbers about the total new users in the period and total cost."
   ]
  },
  {
   "cell_type": "code",
   "execution_count": 143,
   "id": "f671ec50",
   "metadata": {},
   "outputs": [],
   "source": [
    "days2 = goog_per_day2.date_joined2.nunique()"
   ]
  },
  {
   "cell_type": "markdown",
   "id": "24d9e97a",
   "metadata": {},
   "source": [
    "We have 90 days, so for 90 days Rover has been using the new bidding method on Google.\n",
    "Therefore we have that for 90 days, we would have gotten 15.5040 new users every day, at an average cost of 30. We can make some estimations with this information:"
   ]
  },
  {
   "cell_type": "markdown",
   "id": "37fdf67f",
   "metadata": {},
   "source": [
    "# Answer to question 8"
   ]
  },
  {
   "cell_type": "code",
   "execution_count": 152,
   "id": "9795b27c",
   "metadata": {},
   "outputs": [
    {
     "name": "stdout",
     "output_type": "stream",
     "text": [
      "had the company not changed it's bidding strategy, it would have gotten 1395 new users from 29/01/2022 onwards.\n"
     ]
    }
   ],
   "source": [
    "n_users_est = days2*daily_avg_1\n",
    "print(\"had the company not changed it's bidding strategy, it would have gotten {} new users from 29/01/2022 onwards.\".format(round(n_users_est)))"
   ]
  },
  {
   "cell_type": "markdown",
   "id": "7ce43b64",
   "metadata": {},
   "source": [
    "Had Rover not changed it's bidding strategy, they would have gotten 1395 new users (assuming customer signup maintained the same behaviour) in the time period from 01-29-2022 to 29-04-2022, which is 90 days. What about the marketing expense in that case?"
   ]
  },
  {
   "cell_type": "code",
   "execution_count": 153,
   "id": "de97bb1d",
   "metadata": {},
   "outputs": [
    {
     "name": "stdout",
     "output_type": "stream",
     "text": [
      "had the company not changed it's bidding strategy, it would have spent 41861$ from 29/01/2022 onwards.\n"
     ]
    }
   ],
   "source": [
    "total_cost_1 = n_users_est*30\n",
    "print(\"had the company not changed it's bidding strategy, it would have spent {}$ from 29/01/2022 onwards.\".format(round(total_cost_1)))"
   ]
  },
  {
   "cell_type": "markdown",
   "id": "bf187ab8",
   "metadata": {},
   "source": [
    "The marketing spend would have been (around) 41861$ had we not changed the bidding strategy on 29-01-2022!"
   ]
  },
  {
   "cell_type": "markdown",
   "id": "820fbdd7",
   "metadata": {},
   "source": [
    "## 9) How many additional accounts were created? What was the marginal cost per account for these additional accounts?"
   ]
  },
  {
   "cell_type": "markdown",
   "id": "9ac0bb8f",
   "metadata": {},
   "source": [
    "If we want to know how many additional accounts were created, we need to know how many total new users we have in both scenarios (would have with old strategy vs have with new strategy), and then subtract one from the other. For the marginal cost per account, this would be the difference in total cost (old strategy vs new strategy) divided by the difference in users acquired (old vs new strategy). Let's get started"
   ]
  },
  {
   "cell_type": "markdown",
   "id": "cfa7bc39",
   "metadata": {},
   "source": [
    "# Answer to question 9"
   ]
  },
  {
   "cell_type": "code",
   "execution_count": 155,
   "id": "7138776f",
   "metadata": {},
   "outputs": [
    {
     "name": "stdout",
     "output_type": "stream",
     "text": [
      "Had we kept the old bidding strategy we would have gotten around 1395 new users from 29-01-2022 onwards. \n",
      "\n",
      "With the new bidding strategy we got 4744 new users from 29-01-2022 onwards. \n",
      "\n",
      "This means that 3349 additional accounts were created because of the change in bidding strategy!\n"
     ]
    }
   ],
   "source": [
    "print(\"Had we kept the old bidding strategy we would have gotten around {} new users from 29-01-2022 onwards.\".format(round(n_users_est)) , \"\\n\\n\"\n",
    "\"With the new bidding strategy we got {} new users from 29-01-2022 onwards.\".format(new_users_n), \"\\n\\n\" \"This means that {} additional accounts were created because of the change in bidding strategy!\".format(new_users_n - round(n_users_est))     )"
   ]
  },
  {
   "cell_type": "markdown",
   "id": "71dfe851",
   "metadata": {},
   "source": [
    "Marginal cost per account for these additional accounts?\n",
    "\n",
    "We got 3349 additional accounts. What would have been the cost of keeping strategy 1? What is the cost we incurred with strategy 2?"
   ]
  },
  {
   "cell_type": "code",
   "execution_count": 156,
   "id": "faf74ec2",
   "metadata": {},
   "outputs": [],
   "source": [
    "total_cost_2 = 213480"
   ]
  },
  {
   "cell_type": "code",
   "execution_count": 157,
   "id": "7c57605d",
   "metadata": {},
   "outputs": [
    {
     "name": "stdout",
     "output_type": "stream",
     "text": [
      "Had we kept the old strategy from 29-01-2022 onwards the total cost would have been around 41861$. \n",
      "\n",
      "With the new bidding strategy from 29-01-2022 onwards the total cost was 213480$. \n",
      "\n",
      "This means that the additional total cost for the new strategy was 171619$!\n"
     ]
    }
   ],
   "source": [
    "print(\"Had we kept the old strategy from 29-01-2022 onwards the total cost would have been around {}$.\".format(round(total_cost_1)) , \"\\n\\n\"\n",
    "\"With the new bidding strategy from 29-01-2022 onwards the total cost was {}$.\".format(total_cost_2), \"\\n\\n\" \n",
    "\"This means that the additional total cost for the new strategy was {}$!\".format(total_cost_2 - round(total_cost_1)))"
   ]
  },
  {
   "cell_type": "markdown",
   "id": "e7565f1c",
   "metadata": {},
   "source": [
    "Finally, we got 3349 additional accounts because of the new strategy, and the additional cost was 171619$. So what is the marginal cost per new account?"
   ]
  },
  {
   "cell_type": "code",
   "execution_count": 158,
   "id": "fe33ac19",
   "metadata": {},
   "outputs": [
    {
     "name": "stdout",
     "output_type": "stream",
     "text": [
      "51.24484920871902\n"
     ]
    }
   ],
   "source": [
    "marginal_cost = 171619/3349\n",
    "print(marginal_cost)"
   ]
  },
  {
   "cell_type": "markdown",
   "id": "97ec6d1a",
   "metadata": {},
   "source": [
    "The marginal cost per account for these additional accounts is 51$!"
   ]
  },
  {
   "cell_type": "markdown",
   "id": "821829e5",
   "metadata": {},
   "source": [
    "## 10) Do you think the intervention was worth it? What other sort of information would you want to know to help you make this decision?"
   ]
  },
  {
   "cell_type": "markdown",
   "id": "f538f5bb",
   "metadata": {},
   "source": [
    "So here we can ask some questions: \n",
    "\n",
    "How is the daily average of total income, provider pay and net revenue different for period 1 and 2?"
   ]
  },
  {
   "cell_type": "code",
   "execution_count": 159,
   "id": "0c480c83",
   "metadata": {},
   "outputs": [],
   "source": [
    "conv_bkd_nc_complete2[\"booked_date\"] = conv_bkd_nc_complete2[\"booked_at\"].dt.date"
   ]
  },
  {
   "cell_type": "code",
   "execution_count": 160,
   "id": "8b409c0e",
   "metadata": {},
   "outputs": [
    {
     "name": "stdout",
     "output_type": "stream",
     "text": [
      "datetime64[ns]\n"
     ]
    }
   ],
   "source": [
    "conv_bkd_nc_complete2[\"booked_date\"] = pd.to_datetime(conv_bkd_nc_complete2[\"booked_date\"])\n",
    "print(conv_bkd_nc_complete2[\"booked_date\"].dtype)"
   ]
  },
  {
   "cell_type": "code",
   "execution_count": 163,
   "id": "27b39aeb",
   "metadata": {},
   "outputs": [],
   "source": [
    "st1 = conv_bkd_nc_complete2.loc[conv_bkd_nc_complete2[\"booked_date\"] < \"2022-01-29\", :]\n",
    "st2 = conv_bkd_nc_complete2.loc[conv_bkd_nc_complete2[\"booked_date\"] >= \"2022-01-29\", :]"
   ]
  },
  {
   "cell_type": "code",
   "execution_count": 164,
   "id": "139a56cd",
   "metadata": {},
   "outputs": [
    {
     "name": "stdout",
     "output_type": "stream",
     "text": [
      "before 29/01/2022, we had 613 days \n",
      "from 29/01/2022 onwards, we had 91 days\n"
     ]
    }
   ],
   "source": [
    "days_st1 = st1.booked_date.nunique()\n",
    "days_st2 = st2.booked_date.nunique()\n",
    "print(\"before 29/01/2022, we had {} days\".format(days_st1), \"\\n\"\n",
    "\"from 29/01/2022 onwards, we had {} days\".format(days_st2))"
   ]
  },
  {
   "cell_type": "markdown",
   "id": "d9a725c8",
   "metadata": {},
   "source": [
    "# Answer to question 10"
   ]
  },
  {
   "cell_type": "code",
   "execution_count": 168,
   "id": "e09126f6",
   "metadata": {},
   "outputs": [
    {
     "name": "stdout",
     "output_type": "stream",
     "text": [
      "for the period with the first strategy: daily avg total_income 6457 \n",
      "for the period with the first strategy: daily avg provider payments 5060 \n",
      "for the period with the first strategy: daily avg net revenue 1397 \n",
      "\n",
      "for the period with the second strategy: daily avg total_income 18237 \n",
      "for the period with the second strategy: daily avg provider payments 13865 \n",
      "for the period with the second strategy: daily avg net revenue 4372\n"
     ]
    }
   ],
   "source": [
    "print(\"for the period with the first strategy: daily avg total_income\", round(st1.total_w_fee.sum()/613), \"\\n\"\n",
    "\"for the period with the first strategy: daily avg provider payments\", round(st1.prov_pay.sum()/613), \"\\n\"\n",
    "\"for the period with the first strategy: daily avg net revenue\", round(st1.net_revenue.sum()/613), \"\\n\\n\"\n",
    "      \n",
    "\"for the period with the second strategy: daily avg total_income\", round(st2.total_w_fee.sum()/91), \"\\n\"\n",
    "\"for the period with the second strategy: daily avg provider payments\", round(st2.prov_pay.sum()/91), \"\\n\"\n",
    "\"for the period with the second strategy: daily avg net revenue\", round(st2.net_revenue.sum()/91))"
   ]
  },
  {
   "cell_type": "markdown",
   "id": "3124f6d4",
   "metadata": {},
   "source": [
    "We can see already that with the change in strategy, daily avg net revenue increased 212%! So the change was definitely positive for the business. However, we still have to consider the marketing cost of this shift in strategy. Maybe what we are paying for advertising 1st in Google is offsetting all of the gains from it.\n",
    "What happens when we take that into account? How does the net_revenue of both periods look when we consider the marketing expenses?"
   ]
  },
  {
   "cell_type": "code",
   "execution_count": 169,
   "id": "7de0ad55",
   "metadata": {},
   "outputs": [
    {
     "name": "stdout",
     "output_type": "stream",
     "text": [
      "287910\n"
     ]
    }
   ],
   "source": [
    "total_cost_1 = goog_per_day1.id.sum()*30\n",
    "print(total_cost_1) #and we had defined total_cost_2 before, it was given to us by the exercise"
   ]
  },
  {
   "cell_type": "code",
   "execution_count": 170,
   "id": "cb77196d",
   "metadata": {},
   "outputs": [
    {
     "name": "stdout",
     "output_type": "stream",
     "text": [
      "the total final revenue before 29/01/2022 is:  568405 \n",
      "the total final revenue from 29/01/2022 onwards is:  184368\n"
     ]
    }
   ],
   "source": [
    "st1_final_rev = st1.net_revenue.sum() - total_cost_1\n",
    "st2_final_rev = st2.net_revenue.sum() - total_cost_2\n",
    "print(\"the total final revenue before 29/01/2022 is: \", round(st1_final_rev), \"\\n\"\n",
    "\"the total final revenue from 29/01/2022 onwards is: \", round(st2_final_rev))"
   ]
  },
  {
   "cell_type": "markdown",
   "id": "40838c26",
   "metadata": {},
   "source": [
    "However, as these periods are of different lengths, we are interested in the daily average final revenue to have a comparable measure, not the total sum of the periods.\n",
    "We know that period 1 (dates before 29/01/2022) has 613 days, while period 2 has 91 days.\n",
    "Therefore, considering this, the daily average final revenue looks like this:"
   ]
  },
  {
   "cell_type": "code",
   "execution_count": 172,
   "id": "2ac29413",
   "metadata": {},
   "outputs": [
    {
     "name": "stdout",
     "output_type": "stream",
     "text": [
      "the avg daily net revenue considering marketing expenses before 29/01/2022:  927 \n",
      "the avg daily net revenue considering marketing expenses onwards from 29/01/2022:  2026 \n",
      "\n",
      "increase in net revenue:  1.18 \n",
      "\n",
      "the net revenue, even considering marketing expenses, more than doubled!\n"
     ]
    }
   ],
   "source": [
    "print(\"the avg daily net revenue considering marketing expenses before 29/01/2022: \",round(st1_final_rev/613),\"\\n\"\n",
    "\"the avg daily net revenue considering marketing expenses onwards from 29/01/2022: \", round(st2_final_rev/91), \"\\n\\n\"\n",
    "\"increase in net revenue: \", round((st2_final_rev/91 - st1_final_rev/613)/(st1_final_rev/613), 2), \"\\n\\n\"\n",
    "\"the net revenue, even considering marketing expenses, more than doubled!\")"
   ]
  },
  {
   "cell_type": "markdown",
   "id": "6a2f4ace",
   "metadata": {},
   "source": [
    "So, in the end, the answer is yes, the intervention is totally worth it. The new strategy was very successful as shown by the figures above."
   ]
  }
 ],
 "metadata": {
  "kernelspec": {
   "display_name": "Python 3",
   "language": "python",
   "name": "python3"
  },
  "language_info": {
   "codemirror_mode": {
    "name": "ipython",
    "version": 3
   },
   "file_extension": ".py",
   "mimetype": "text/x-python",
   "name": "python",
   "nbconvert_exporter": "python",
   "pygments_lexer": "ipython3",
   "version": "3.8.8"
  }
 },
 "nbformat": 4,
 "nbformat_minor": 5
}
